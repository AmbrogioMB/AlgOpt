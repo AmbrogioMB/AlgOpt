{
  "nbformat": 4,
  "nbformat_minor": 0,
  "metadata": {
    "colab": {
      "provenance": [],
      "authorship_tag": "ABX9TyNk8KWgRiT8lrx0SEcxQVhf",
      "include_colab_link": true
    },
    "kernelspec": {
      "name": "python3",
      "display_name": "Python 3"
    },
    "language_info": {
      "name": "python"
    }
  },
  "cells": [
    {
      "cell_type": "markdown",
      "metadata": {
        "id": "view-in-github",
        "colab_type": "text"
      },
      "source": [
        "<a href=\"https://colab.research.google.com/github/AmbrogioMB/AlgOpt/blob/main/Linear_programming.ipynb\" target=\"_parent\"><img src=\"https://colab.research.google.com/assets/colab-badge.svg\" alt=\"Open In Colab\"/></a>"
      ]
    },
    {
      "cell_type": "markdown",
      "source": [
        "## 1. Basics of Gurobi: A simple LP problem\n",
        "In this section, we define and solve a simple linear programming (LP) problem using Gurobi.\n",
        "The goal is to maximize the objective function 3x + 5y subject to a set of linear constraints.\n",
        "We will learn how to define variables, set an objective function, add constraints, and solve the problem."
      ],
      "metadata": {
        "id": "I9O8bnwDk9m4"
      }
    },
    {
      "cell_type": "code",
      "source": [
        "!pip install gurobipy"
      ],
      "metadata": {
        "id": "pQKfoVEPc-z3"
      },
      "execution_count": null,
      "outputs": []
    },
    {
      "cell_type": "code",
      "execution_count": null,
      "metadata": {
        "id": "tkMJUhBCbi37"
      },
      "outputs": [],
      "source": [
        "import gurobipy as gp\n",
        "from gurobipy import GRB\n",
        "\n",
        "model = gp.Model(\"Simple LP\")\n",
        "\n",
        "# Variables\n",
        "x = model.addVar(name=\"x\", vtype=GRB.CONTINUOUS, lb=0, ub=GRB.INFINITY)\n",
        "y = model.addVar(name=\"y\", vtype=GRB.CONTINUOUS, lb=0, ub=GRB.INFINITY)\n",
        "\n",
        "# Objective\n",
        "model.setObjective(3*x + 5*y, GRB.MAXIMIZE)\n",
        "\n",
        "# Constraints\n",
        "model.addConstr(2*x + y <= 8, \"Constraint1\")\n",
        "model.addConstr(x + 2*y <= 6, \"Constraint2\")\n",
        "model.addConstr(x >= 1, \"Constraint3\")\n",
        "model.addConstr(y >= 2, \"Constraint4\")\n",
        "\n",
        "# Optimize\n",
        "model.optimize()\n",
        "\n",
        "# Results\n",
        "if model.status == GRB.OPTIMAL:\n",
        "    print(f\"Optimal value: {model.objVal}\")\n",
        "    print(f\"x = {x.x}, y = {y.x}\")"
      ]
    },
    {
      "cell_type": "markdown",
      "source": [
        "## 2. Standard form of LP\n",
        "In this section, we convert the LP to its standard form by introducing slack variables.\n",
        "Inequality constraints are transformed into equalities by adding non-negative slack variables."
      ],
      "metadata": {
        "id": "gX1Ev2aflqln"
      }
    },
    {
      "cell_type": "code",
      "source": [
        "model_sf = gp.Model(\"Standard Form LP\")\n",
        "\n",
        "# Variables\n",
        "x_sf = model_sf.addVar(name=\"x\", vtype=GRB.CONTINUOUS, lb=0, ub=GRB.INFINITY)\n",
        "y_sf = model_sf.addVar(name=\"y\", vtype=GRB.CONTINUOUS, lb=0, ub=GRB.INFINITY)\n",
        "s1 = model_sf.addVar(name=\"s1\", vtype=GRB.CONTINUOUS, lb=0, ub=GRB.INFINITY)\n",
        "s2 = model_sf.addVar(name=\"s2\", vtype=GRB.CONTINUOUS, lb=0, ub=GRB.INFINITY)\n",
        "s3 = model_sf.addVar(name=\"s3\", vtype=GRB.CONTINUOUS, lb=0, ub=GRB.INFINITY)\n",
        "s4 = model_sf.addVar(name=\"s4\", vtype=GRB.CONTINUOUS, lb=0, ub=GRB.INFINITY)\n",
        "\n",
        "# Objective\n",
        "model_sf.setObjective(3*x_sf + 5*y_sf, GRB.MAXIMIZE)\n",
        "\n",
        "# Constraints\n",
        "model_sf.addConstr(2*x_sf + y_sf + s1 == 8, \"StandardForm1\")\n",
        "model_sf.addConstr(x_sf + 2*y_sf + s2 == 6, \"StandardForm2\")\n",
        "model_sf.addConstr(x_sf  - s3 == 1, \"StandardForm3\")\n",
        "model_sf.addConstr(y_sf - s4 == 2, \"StandardForm4\")\n",
        "\n",
        "# Optimize\n",
        "model_sf.optimize()\n",
        "\n",
        "# Results\n",
        "if model_sf.status == GRB.OPTIMAL:\n",
        "    print(f\"Optimal value: {model_sf.objVal}\")\n",
        "    print(f\"x = {x_sf.x}, y = {y_sf.x}\")\n",
        "    print(f\"Slack variable s1 = {s1.x}, s2 = {s2.x}, s3 = {s3.x}, s4 = {s4.x}\")\n"
      ],
      "metadata": {
        "id": "LV0KudeGlqNu"
      },
      "execution_count": null,
      "outputs": []
    },
    {
      "cell_type": "markdown",
      "source": [
        "## 3. Dual of the LP\n",
        "Here we define the dual of the original LP problem.\n",
        "The dual problem provides a lower bound for the optimal value of the primal problem.\n",
        "We define and solve the dual to illustrate the relationship between the primal and dual solutions.\n"
      ],
      "metadata": {
        "id": "RYvvDQQAnDo9"
      }
    },
    {
      "cell_type": "code",
      "source": [
        "dual = gp.Model(\"Dual LP\")\n",
        "\n",
        "u = dual.addVar(name=\"u\", vtype=GRB.CONTINUOUS, lb=-GRB.INFINITY, ub=GRB.INFINITY)\n",
        "v = dual.addVar(name=\"v\", vtype=GRB.CONTINUOUS, lb=-GRB.INFINITY, ub=GRB.INFINITY)\n",
        "w1 = dual.addVar(name=\"w1\", vtype=GRB.CONTINUOUS, lb=-GRB.INFINITY, ub=GRB.INFINITY)\n",
        "w2 = dual.addVar(name=\"w2\", vtype=GRB.CONTINUOUS, lb=-GRB.INFINITY, ub=GRB.INFINITY)\n",
        "\n",
        "dual.setObjective(8*u + 6*v + w1 + 2*w2, GRB.MINIMIZE)\n",
        "\n",
        "dual.addConstr(2*u + v + w1 >= 3, \"DualConstraint1\")\n",
        "dual.addConstr(u + 2*v + w2 >= 5, \"DualConstraint2\")\n",
        "dual.addConstr(u >= 0, \"DualConstraint3\")\n",
        "dual.addConstr(v >= 0, \"DualConstraint4\")\n",
        "dual.addConstr(- w1 >= 0, \"DualConstraint5\")\n",
        "dual.addConstr(- w2 >= 0, \"DualConstraint6\")\n",
        "\n",
        "dual.optimize()\n",
        "\n",
        "if dual.status == GRB.OPTIMAL:\n",
        "    print(f\"Dual optimal value: {dual.objVal}\")\n",
        "    print(f\"u = {u.x}, v = {v.x}, w1 = {w1.x}, w2 = {w2.x}\")"
      ],
      "metadata": {
        "id": "-YWLMWmPnLKk"
      },
      "execution_count": null,
      "outputs": []
    },
    {
      "cell_type": "markdown",
      "source": [
        "## 4. Complementary slackness conditions\n",
        "Complementary slackness is a key optimality condition linking the primal and dual solutions.\n",
        "It states that the product of each primal slack and the corresponding dual variable must be zero.\n",
        "We verify this condition to confirm the optimality of our solutions."
      ],
      "metadata": {
        "id": "ZjTAZ5SdnYLs"
      }
    },
    {
      "cell_type": "code",
      "source": [
        "if model_sf.status == GRB.OPTIMAL and dual.status == GRB.OPTIMAL:\n",
        "    primal_sol = [x_sf.x, y_sf.x, s1.x, s2.x, s3.x, s4.x]\n",
        "    dual_slacks = [3 - (2*u.x + v.x + w1.x), 5 - (u.x + 2*v.x + w2.x), 0 - u.x, 0 - v.x, 0 + w1.x, 0 + w2.x]\n",
        "\n",
        "    print(\"Primal slack values:\", primal_sol)\n",
        "    print(\"Dual slack values:\", dual_slacks)\n",
        "\n",
        "    for i, (ps, ds) in enumerate(zip(primal_sol, dual_slacks)):\n",
        "        print(f\"Complementary slackness for constraint {i+1}: {ps * ds}\")\n"
      ],
      "metadata": {
        "id": "PO2xWVXynbID"
      },
      "execution_count": null,
      "outputs": []
    },
    {
      "cell_type": "markdown",
      "source": [
        "## 5. More complex LP using indexed variables and loops\n",
        "In this part, we model a production optimization problem for a company producing three products (A, B, C).\n",
        "Each product requires different amounts of two limited resources. The goal is to maximize total profit.\n",
        "We use indexed variables and construct constraints using loops to handle multiple products and resources efficiently."
      ],
      "metadata": {
        "id": "EXwI1_uJpAia"
      }
    },
    {
      "cell_type": "code",
      "source": [
        "products = [\"A\", \"B\", \"C\"]\n",
        "profits = {\"A\": 5, \"B\": 7, \"C\": 4}\n",
        "resources = [\"Resource1\", \"Resource2\"]\n",
        "availability = {\"Resource1\": 100, \"Resource2\": 80}\n",
        "\n",
        "usage = {(\"A\", \"Resource1\"): 6, (\"A\", \"Resource2\"): 4,\n",
        "         (\"B\", \"Resource1\"): 10, (\"B\", \"Resource2\"): 5,\n",
        "         (\"C\", \"Resource1\"): 4, (\"C\", \"Resource2\"): 7}\n",
        "\n",
        "model_complex = gp.Model(\"Complex LP\")\n",
        "\n",
        "# Indexed variables\n",
        "produce = model_complex.addVars(products, name=\"produce\", vtype=GRB.CONTINUOUS, lb=0, ub=GRB.INFINITY)\n",
        "\n",
        "# Objective\n",
        "model_complex.setObjective(gp.quicksum(profits[p] * produce[p] for p in products), GRB.MAXIMIZE)\n",
        "\n",
        "# Resource constraints using loops\n",
        "for r in resources:\n",
        "    model_complex.addConstr(gp.quicksum(usage[p, r] * produce[p] for p in products) <= availability[r], name=f\"Resource_{r}\")\n",
        "\n",
        "# Optimize\n",
        "model_complex.optimize()\n",
        "\n",
        "if model_complex.status == GRB.OPTIMAL:\n",
        "    print(f\"Optimal profit: {model_complex.objVal}\")\n",
        "    for p in products:\n",
        "        print(f\"Production of {p}: {produce[p].x}\")"
      ],
      "metadata": {
        "id": "DSwmfeG9pI0c"
      },
      "execution_count": null,
      "outputs": []
    },
    {
      "cell_type": "markdown",
      "source": [
        "## 6. Exercise: Define and solve a warehouse optimization LP\n",
        " A company manages the distribution of goods from 3 warehouses to 4 stores.\n",
        " Transport costs and supply/demand are known. Formulate and solve an LP to minimize shipping costs.\n",
        "\n",
        " Variables: Amount shipped from each warehouse to each store.\n",
        "\n",
        " Objective: Minimize total shipping costs.\n",
        "\n",
        " Constraints:\n",
        " - Shipments from each warehouse must not exceed its supply.\n",
        " - Shipments to each store must meet its demand."
      ],
      "metadata": {
        "id": "cJ_hiSZZqiSf"
      }
    },
    {
      "cell_type": "code",
      "source": [
        "warehouses = [\"W1\", \"W2\", \"W3\"]\n",
        "stores = [\"S1\", \"S2\", \"S3\", \"S4\"]\n",
        "\n",
        "supply = {\"W1\": 100, \"W2\": 150, \"W3\": 120}\n",
        "demand = {\"S1\": 80, \"S2\": 90, \"S3\": 100, \"S4\": 100}\n",
        "cost = {(\"W1\", \"S1\"): 4, (\"W1\", \"S2\"): 6, (\"W1\", \"S3\"): 8, (\"W1\", \"S4\"): 10,\n",
        "        (\"W2\", \"S1\"): 3, (\"W2\", \"S2\"): 5, (\"W2\", \"S3\"): 6, (\"W2\", \"S4\"): 8,\n",
        "        (\"W3\", \"S1\"): 7, (\"W3\", \"S2\"): 8, (\"W3\", \"S3\"): 5, (\"W3\", \"S4\"): 6}"
      ],
      "metadata": {
        "id": "B-tP5ZBFq4aF"
      },
      "execution_count": null,
      "outputs": []
    },
    {
      "cell_type": "markdown",
      "source": [
        "## 7. Constraint matrix\n",
        "\n",
        "We will now see an easy way to get the constrain matrix of an LP such that it is written as $A'x \\leq b'$."
      ],
      "metadata": {
        "id": "KtYNaXWO42YD"
      }
    },
    {
      "cell_type": "code",
      "source": [
        "import numpy as np\n",
        "A = model.getA()\n",
        "b_new = []\n",
        "A_new = []\n",
        "\n",
        "# Process each constraint\n",
        "for i, constr in enumerate(model.getConstrs()):\n",
        "    # Convert the sparse row to dense (numpy array)\n",
        "    row = A.getrow(i).todense()  # or A[i,:].A to convert sparse to dense\n",
        "    rhs = constr.RHS\n",
        "    s = constr.Sense\n",
        "\n",
        "    if s == '<':\n",
        "        A_new.append(row)\n",
        "        b_new.append(rhs)\n",
        "\n",
        "    elif s == '>':\n",
        "        A_new.append(-row)\n",
        "        b_new.append(-rhs)\n",
        "\n",
        "    elif s == '=':\n",
        "        # Add two inequalities for equality constraints\n",
        "        A_new.append(row)\n",
        "        b_new.append(rhs)\n",
        "        A_new.append(-row)\n",
        "        b_new.append(-rhs)\n",
        "\n",
        "# Stack into final A' and b'\n",
        "A_final = np.vstack(A_new)  # Stack rows\n",
        "b_final = np.array(b_new)   # Stack the right-hand side values\n",
        "\n",
        "# Optional: Convert to dense for inspection (although it's already dense now)\n",
        "print(\"A':\")\n",
        "print(A_final)\n",
        "\n",
        "print(\"\\nb':\")\n",
        "print(b_final)"
      ],
      "metadata": {
        "id": "inqQc6wO5CkK"
      },
      "execution_count": null,
      "outputs": []
    }
  ]
}