{
  "nbformat": 4,
  "nbformat_minor": 0,
  "metadata": {
    "colab": {
      "provenance": [],
      "toc_visible": true,
      "authorship_tag": "ABX9TyORZT75+L7lOh2fzc/4FhV/",
      "include_colab_link": true
    },
    "kernelspec": {
      "name": "python3",
      "display_name": "Python 3"
    },
    "language_info": {
      "name": "python"
    }
  },
  "cells": [
    {
      "cell_type": "markdown",
      "metadata": {
        "id": "view-in-github",
        "colab_type": "text"
      },
      "source": [
        "<a href=\"https://colab.research.google.com/github/AmbrogioMB/AlgOpt/blob/main/Short_Term_Financing.ipynb\" target=\"_parent\"><img src=\"https://colab.research.google.com/assets/colab-badge.svg\" alt=\"Open In Colab\"/></a>"
      ]
    },
    {
      "cell_type": "markdown",
      "source": [
        "## 1. The problem\n",
        "Corporations routinely face the problem of financing short term cash commitments.\n",
        "Linear programming can help in figuring out an optimal combination\n",
        "of financial instruments to meet these commitments.\n",
        "\n",
        "A company has the following short term financing problem.\n",
        "\n",
        "$$\n",
        "\\begin{array}{|c|r|}\n",
        "\\hline\n",
        "\\textbf{Month} & \\textbf{Net cash flow} \\\\\n",
        "\\hline\n",
        "\\text{Jan} & -150 \\\\\n",
        "\\text{Feb} & -100 \\\\\n",
        "\\text{Mar} & 200 \\\\\n",
        "\\text{Apr} & -200 \\\\\n",
        "\\text{May} & 50 \\\\\n",
        "\\text{Jun} & 300 \\\\\n",
        "\\hline\n",
        "\\end{array}\n",
        "$$\n",
        "\n",
        "Net cash flow requirements are given in thousands of dollars. The company\n",
        "has the following sources of funds\n",
        " * A line of credit of up to $\\$100$K at an interest rate of $1\\%$ per month,\n",
        " * In any one of the first three months, it can issue 90-day commercial\n",
        "paper bearing a total interest of $2\\%$ for the 3-month period,\n",
        " * Excess funds can be invested at an interest rate of $0.3\\%$ per month."
      ],
      "metadata": {
        "id": "I9O8bnwDk9m4"
      }
    },
    {
      "cell_type": "code",
      "source": [
        "month = ['Jan', 'Feb', 'Mar', 'Apr', 'May', 'Jun']\n",
        "cash_flow = [-150, -100, 200, -200, 50, 300]"
      ],
      "metadata": {
        "id": "TFGNRa5XQRjh"
      },
      "execution_count": null,
      "outputs": []
    },
    {
      "cell_type": "markdown",
      "source": [
        "## 2. Modeling\n",
        "We begin by modeling the above short term financing problem. That is,\n",
        "we write it in the language of linear programming. There are rules about\n",
        "what one can and cannot do within linear programming. These rules are in\n",
        "place to make certain that the remaining steps of the process (solving and\n",
        "interpreting) can be successful.\n",
        "\n",
        "Key to a linear program are the *decision variables*, *objective*, and *constraints*."
      ],
      "metadata": {
        "id": "gX1Ev2aflqln"
      }
    },
    {
      "cell_type": "code",
      "source": [
        "!pip install gurobipy"
      ],
      "metadata": {
        "id": "pQKfoVEPc-z3",
        "colab": {
          "base_uri": "https://localhost:8080/"
        },
        "outputId": "85edab31-5fbe-4e4a-d6ee-c70e276e4a19"
      },
      "execution_count": null,
      "outputs": [
        {
          "output_type": "stream",
          "name": "stdout",
          "text": [
            "Requirement already satisfied: gurobipy in /usr/local/lib/python3.11/dist-packages (12.0.1)\n"
          ]
        }
      ]
    },
    {
      "cell_type": "markdown",
      "source": [
        "### 2.1 Decision Variables\n",
        "The decision variables represent (unknown) decisions\n",
        "to be made. This is in contrast to problem data, which are values that\n",
        "are either given or can be simply calculated from what is given. For the\n",
        "short term financing problem, there are several possible choices of decision\n",
        "variables. We will use the following decision variables: the amount $x_i$ drawn\n",
        "from the line of credit in month $i$, the amount $y_i$ of commercial paper issued in month $i$, the excess funds $z_i$ in month $i$ and the company's wealth v in June. Note that, alternatively, one could use the decision variables $x_i$ and $y_i$ only, since excess funds and company's wealth can be deduced from these variables."
      ],
      "metadata": {
        "id": "fZxO3wYwt8Ir"
      }
    },
    {
      "cell_type": "code",
      "execution_count": null,
      "metadata": {
        "id": "tkMJUhBCbi37"
      },
      "outputs": [],
      "source": [
        "import gurobipy as gp\n",
        "from gurobipy import GRB\n",
        "\n",
        "model = gp.Model(\"Short Term Financing\")\n",
        "\n",
        "# Variables. Note that the default value of the lower bound is 0\n",
        "x = model.addVars(month[:-1], name=\"x\", vtype=GRB.CONTINUOUS, ub=GRB.INFINITY)\n",
        "y = model.addVars(month[:3], name=\"y\", vtype=GRB.CONTINUOUS, ub=GRB.INFINITY)\n",
        "z = model.addVars(month[:-1], name=\"z\", vtype=GRB.CONTINUOUS, ub=GRB.INFINITY)\n",
        "v = model.addVar(name=\"v\", vtype=GRB.CONTINUOUS, lb=-GRB.INFINITY, ub=GRB.INFINITY)"
      ]
    },
    {
      "cell_type": "markdown",
      "source": [
        "### 2.2 Objective\n",
        "Every linear program has an objective. This objective is to be either minimized or maximized. This objective has to be linear in the decision variables, which means it must be the sum of constants times decision variables.\n",
        "\n",
        "In this case, our objective is simply to maximize $v$."
      ],
      "metadata": {
        "id": "7rylRoIFuGAu"
      }
    },
    {
      "cell_type": "code",
      "source": [
        "# Objective\n",
        "model.setObjective(v, GRB.MAXIMIZE)"
      ],
      "metadata": {
        "id": "LV0KudeGlqNu"
      },
      "execution_count": null,
      "outputs": []
    },
    {
      "cell_type": "markdown",
      "source": [
        "### 2.3 Constraints\n",
        "Every linear program also has constraints limiting feasible\n",
        "decisions. Here we have three types of constraints: (i) cash inflow = cash outflow for each month, (ii) upper bounds on $x_i$, and (iii) nonnegativity of\n",
        "the decision variables $x_i$, $y_i$ and $z_i$.\n",
        "\n",
        "For example, in January ($i = 1$), there is a cash requirement of $150$.\n",
        "To meet this requirement, the company can draw an amount $x_1$ from its\n",
        "line of credit and issue an amount $y_1$ of commercial paper. Considering the\n",
        "possibility of excess funds $z_1$ (possibly 0), the cash flow balance equation is as follows."
      ],
      "metadata": {
        "id": "suCGJ2JVuJui"
      }
    },
    {
      "cell_type": "code",
      "source": [
        "model.addLConstr(x['Jan'] + y['Jan'] - z['Jan'] == 150, \"Constraint1\")"
      ],
      "metadata": {
        "id": "tn9JUtnJTbXX",
        "colab": {
          "base_uri": "https://localhost:8080/"
        },
        "outputId": "9d694988-feab-41f5-f1ef-0bd8697cf901"
      },
      "execution_count": null,
      "outputs": [
        {
          "output_type": "execute_result",
          "data": {
            "text/plain": [
              "<gurobi.Constr *Awaiting Model Update*>"
            ]
          },
          "metadata": {},
          "execution_count": 76
        }
      ]
    },
    {
      "cell_type": "markdown",
      "source": [
        "Next, in February ($i = 2$), there is a cash requirement of $100$. In addition,\n",
        "principal plus interest of $1.01x_1$ is due on the line of credit and $1.003z_1$ is received on the invested excess funds. To meet the requirement in February, the company can draw an amount $x_2$ from its line of credit and issue an amount $y_2$ of commercial paper. So, the cash flow balance equation for February is as follows."
      ],
      "metadata": {
        "id": "iDejuEfUTxRT"
      }
    },
    {
      "cell_type": "code",
      "source": [
        "model.addLConstr(x['Feb'] + y['Feb'] - 1.01*x['Jan'] + 1.003*z['Jan'] - z['Feb'] == 100, \"Constraint2\")"
      ],
      "metadata": {
        "id": "zV8hOmVfUbJg",
        "colab": {
          "base_uri": "https://localhost:8080/"
        },
        "outputId": "2ee4b49c-be50-4125-dc22-ee7587edb433"
      },
      "execution_count": null,
      "outputs": [
        {
          "output_type": "execute_result",
          "data": {
            "text/plain": [
              "<gurobi.Constr *Awaiting Model Update*>"
            ]
          },
          "metadata": {},
          "execution_count": 77
        }
      ]
    },
    {
      "cell_type": "markdown",
      "source": [
        "Similarly, for March we get the following equation:"
      ],
      "metadata": {
        "id": "3GYdoni6Utu8"
      }
    },
    {
      "cell_type": "code",
      "source": [
        "model.addLConstr(x['Mar'] + y['Mar'] - 1.01*x['Feb'] + 1.003*z['Feb'] - z['Mar'] == -200, \"Constraint3\")"
      ],
      "metadata": {
        "id": "_VqiW3jIU16N",
        "colab": {
          "base_uri": "https://localhost:8080/"
        },
        "outputId": "32ae3121-174f-416b-ff5c-867b05a93ed1"
      },
      "execution_count": null,
      "outputs": [
        {
          "output_type": "execute_result",
          "data": {
            "text/plain": [
              "<gurobi.Constr *Awaiting Model Update*>"
            ]
          },
          "metadata": {},
          "execution_count": 78
        }
      ]
    },
    {
      "cell_type": "markdown",
      "source": [
        "For the months of April, May, and June, issuing a commercial paper is\n",
        "no longer an option, so we will not have variables $y_4$, $y_5$, and $y_6$ in the formulation. Furthermore, any commercial paper issued between January\n",
        "and March requires a payment with $2\\%$ interest 3 months later. Thus, we\n",
        "have the following additional equations:"
      ],
      "metadata": {
        "id": "eju0IlvBVCnB"
      }
    },
    {
      "cell_type": "code",
      "source": [
        "model.addLConstr(x['Apr'] - 1.02*y['Jan'] - 1.01*x['Mar'] + 1.003*z['Mar'] - z['Apr'] == 200, \"Constraint4\")\n",
        "model.addLConstr(x['May'] - 1.02*y['Feb'] - 1.01*x['Apr'] + 1.003*z['Apr'] - z['May'] == -50, \"Constraint5\")\n",
        "model.addLConstr( - 1.02*y['Mar'] - 1.01*x['May'] + 1.003*z['May'] - v == -300, \"Constraint6\")"
      ],
      "metadata": {
        "id": "mQJzAUdVWaSW",
        "colab": {
          "base_uri": "https://localhost:8080/"
        },
        "outputId": "0bb928a5-1a5a-4d67-b236-7c27ed719c34"
      },
      "execution_count": null,
      "outputs": [
        {
          "output_type": "execute_result",
          "data": {
            "text/plain": [
              "<gurobi.Constr *Awaiting Model Update*>"
            ]
          },
          "metadata": {},
          "execution_count": 79
        }
      ]
    },
    {
      "cell_type": "markdown",
      "source": [
        "Note that $x_i$ is the balance on the credit line in month $i$, not the incremental borrowing in month $i$. Similarly, $z_i$ represents the overall excess funds in month $i$. This choice of variables is quite convenient when it comes to writing down the upper bound and nonnegativity constraints."
      ],
      "metadata": {
        "id": "WHhGgnePXcEG"
      }
    },
    {
      "cell_type": "code",
      "source": [
        "for i in month[:-1]:\n",
        "  model.addLConstr(x[i] <= 100, \"Constraint8_{}\".format(i))\n",
        "  # Note that the variables x,y,z are non-negative because of their definition"
      ],
      "metadata": {
        "id": "wFGT5TdXXm-r"
      },
      "execution_count": null,
      "outputs": []
    },
    {
      "cell_type": "markdown",
      "source": [
        "## 3. Solving\n",
        "We now simply optimize our LP. Fixing to $0$ the paramether 'Method', force gurobi to solve by the primal simplex method. We will talk about this.\n",
        "\n",
        "\n",
        "\n",
        "\n"
      ],
      "metadata": {
        "id": "RYvvDQQAnDo9"
      }
    },
    {
      "cell_type": "code",
      "source": [
        "model.setParam('Method', 0)\n",
        "model.optimize()"
      ],
      "metadata": {
        "id": "-YWLMWmPnLKk",
        "colab": {
          "base_uri": "https://localhost:8080/"
        },
        "outputId": "0195e42e-3bca-4af3-c09b-9b01f52c619d"
      },
      "execution_count": null,
      "outputs": [
        {
          "output_type": "stream",
          "name": "stdout",
          "text": [
            "Set parameter Method to value 0\n",
            "Gurobi Optimizer version 12.0.1 build v12.0.1rc0 (linux64 - \"Ubuntu 22.04.4 LTS\")\n",
            "\n",
            "CPU model: Intel(R) Xeon(R) CPU @ 2.20GHz, instruction set [SSE2|AVX|AVX2]\n",
            "Thread count: 1 physical cores, 2 logical processors, using up to 2 threads\n",
            "\n",
            "Non-default parameters:\n",
            "Method  0\n",
            "\n",
            "Optimize a model with 11 rows, 14 columns and 32 nonzeros\n",
            "Model fingerprint: 0x95899dbf\n",
            "Coefficient statistics:\n",
            "  Matrix range     [1e+00, 1e+00]\n",
            "  Objective range  [1e+00, 1e+00]\n",
            "  Bounds range     [0e+00, 0e+00]\n",
            "  RHS range        [5e+01, 3e+02]\n",
            "Presolve removed 8 rows and 3 columns\n",
            "Presolve time: 0.01s\n",
            "Presolved: 3 rows, 11 columns, 18 nonzeros\n",
            "\n",
            "Iteration    Objective       Primal Inf.    Dual Inf.      Time\n",
            "       0    9.1449085e+01   0.000000e+00   7.377158e+00      0s\n",
            "       2    9.2496949e+01   0.000000e+00   0.000000e+00      0s\n",
            "\n",
            "Solved in 2 iterations and 0.01 seconds (0.00 work units)\n",
            "Optimal objective  9.249694915e+01\n"
          ]
        }
      ]
    },
    {
      "cell_type": "markdown",
      "source": [
        "And retrive the value of the variables that attains the optimum."
      ],
      "metadata": {
        "id": "AAKDQFvwaY1i"
      }
    },
    {
      "cell_type": "code",
      "source": [
        "if model.status == GRB.OPTIMAL:\n",
        "    x_values = {i: x[i].x for i in month[:-1]}\n",
        "    y_values = {i: y[i].x for i in month[:3]}\n",
        "    z_values = {i: z[i].x for i in month[:-1]}\n",
        "    v_value = v.x\n",
        "\n",
        "    print(\"Decision variables:\")\n",
        "    print(\"   x:\", x_values)\n",
        "    print(\"   y:\", y_values)\n",
        "    print(\"   z:\", z_values)\n",
        "    print(\"   v:\", v_value)\n",
        "    print(\"Objective value:\", model.objVal)"
      ],
      "metadata": {
        "id": "BZIsr1xIZeZB",
        "colab": {
          "base_uri": "https://localhost:8080/"
        },
        "outputId": "d748441d-197e-40c3-af02-8809f57abcc0"
      },
      "execution_count": null,
      "outputs": [
        {
          "output_type": "stream",
          "name": "stdout",
          "text": [
            "Decision variables:\n",
            "   x: {'Jan': 0.0, 'Feb': 0.0, 'Mar': 0.0, 'Apr': 0.0, 'May': 52.0}\n",
            "   y: {'Jan': 150.0, 'Feb': 100.0, 'Mar': 151.94416749750752}\n",
            "   z: {'Jan': 0.0, 'Feb': 0.0, 'Mar': 351.9441674975075, 'Apr': 0.0, 'May': 0.0}\n",
            "   v: 92.49694915254233\n",
            "Objective value: 92.49694915254233\n"
          ]
        }
      ]
    },
    {
      "cell_type": "markdown",
      "source": [
        "### 3.1 Exercise\n",
        "How would the formulation of the short-term fiancing problem above change if the commercial papers issued had a 2 month maturity instead of 3?"
      ],
      "metadata": {
        "id": "uYCBPREYcA7P"
      }
    },
    {
      "cell_type": "code",
      "source": [
        "### write the new model and optimize it\n",
        "model_new = gp.Model(\"Short Term Financing - New\")\n",
        "\n",
        "# Variables\n",
        "x = model_new.addVars(month[:-1], name=\"x\", vtype=GRB.CONTINUOUS, ub=100)  # Line of credit (max 100K)\n",
        "y = model_new.addVars(month[:4], name=\"y\", vtype=GRB.CONTINUOUS)           # Commercial paper (issued in Jan–Apr)\n",
        "z = model_new.addVars(month[:-1], name=\"z\", vtype=GRB.CONTINUOUS)          # Investments\n",
        "v = model_new.addVar(name=\"v\", vtype=GRB.CONTINUOUS, lb=-GRB.INFINITY, ub=GRB.INFINITY)  # Terminal value\n",
        "\n",
        "# Objective: Maximize ending cash (v)\n",
        "model_new.setObjective(v, GRB.MAXIMIZE)\n",
        "\n",
        "# Balance constraints (adjusted for 2-month commercial paper maturity)\n",
        "model_new.addLConstr(x['Jan'] + y['Jan'] - z['Jan'] == 150, \"C1\")\n",
        "model_new.addLConstr(x['Feb'] + y['Feb'] - 1.01*x['Jan'] + 1.003*z['Jan'] - z['Feb'] == 100, \"C2\")\n",
        "model_new.addLConstr(x['Mar'] + y['Mar'] - 1.01*x['Feb'] + 1.003*z['Feb'] - z['Mar'] - 1.02*y['Jan'] == -200, \"C3\")\n",
        "model_new.addLConstr(x['Apr'] + y['Apr'] - 1.01*x['Mar'] + 1.003*z['Mar'] - z['Apr'] - 1.02*y['Feb'] == 200, \"C4\")\n",
        "model_new.addLConstr(x['May'] - 1.01*x['Apr'] + 1.003*z['Apr'] - z['May'] - 1.02*y['Mar'] == -50, \"C5\")\n",
        "model_new.addLConstr(-1.01*x['May'] + 1.003*z['May'] - v - 1.02*y['Apr'] == -300, \"C6\")\n",
        "model_new.setParam('Method', 0)\n",
        "model_new.optimize()\n",
        "if model_new.status == GRB.OPTIMAL:\n",
        "    x_values = {i: x[i].x for i in month[:-1]}\n",
        "    y_values = {i: y[i].x for i in month[:4]}\n",
        "    z_values = {i: z[i].x for i in month[:-1]}\n",
        "    v_value = v.x\n",
        "\n",
        "    print(\"Decision variables:\")\n",
        "    print(\"   x:\", x_values)\n",
        "    print(\"   y:\", y_values)\n",
        "    print(\"   z:\", z_values)\n",
        "    print(\"   v:\", v_value)\n",
        "    print(\"Objective value:\", model_new.objVal)"
      ],
      "metadata": {
        "id": "iAqTthrjcLAo"
      },
      "execution_count": null,
      "outputs": []
    },
    {
      "cell_type": "markdown",
      "source": [
        "## 4. Features of Linear Programs\n",
        "\n",
        "Hidden in each linear programming formulation are a number of assumptions.\n",
        "The usefulness of an LP model is directly related to how closely reality\n",
        "matches up with these assumptions.\n",
        "\n",
        "The first two assumptions are due to the linear form of the objective\n",
        "and constraint functions. The contribution to the objective of any decision\n",
        "variable is proportional to the value of the decision variable. Similarly,\n",
        "the contribution of each variable to the left hand side of each constraint\n",
        "is proportional to the value of the variable. This is the *Proportionality\n",
        "Assumption*.\n",
        "\n",
        "Furthermore, the contribution of a variable to the objective and constraints\n",
        "is independent of the values of the other variables. This is the\n",
        "*Additivity Assumption*. When additivity or proportionality assumptions are\n",
        "not satisfied, a nonlinear programming model may be more appropriate.\n",
        "\n",
        "The next assumption is the *Divisibility Assumption*: is it possible to\n",
        "take any fraction of any variable? A fractional production quantity may be\n",
        "worrisome if we are producing a small number of battleships or be innocuous\n",
        "if we are producing millions of paperclips. If the Divisibility Assumption is\n",
        "important and does not hold, then a technique called integer programming\n",
        "rather than linear programming is required. This technique takes orders\n",
        "of magnitude more time to find solutions but may be necessary to create\n",
        "realistic solutions.\n",
        "\n",
        "The final assumption is the *Certainty Assumption*: linear programming\n",
        "allows for no uncertainty about the input parameters such as the cash-flow\n",
        "requirements or interest rates we used in the short-term financing model.\n",
        "Problems with uncertain parameters can be addressed using stochastic programming\n",
        "or robust optimization approaches.\n",
        "\n",
        "It is very rare that a problem will meet all of the assumptions exactly.\n",
        "That does not negate the usefulness of a model. A model can still give\n",
        "useful managerial insight even if reality differs slightly from the rigorous\n",
        "requirements of the model."
      ],
      "metadata": {
        "id": "JcAry1H6dvuX"
      }
    },
    {
      "cell_type": "markdown",
      "source": [
        "## 5. Sensitivity Analysis\n",
        "The optimal solution to a linear programming model is the most important\n",
        "output of LP solvers, but it is not the only useful information they generate.\n",
        "Most linear programming packages produce a tremendous amount of sensitivity\n",
        "information, or information about what happens when data values\n",
        "are changed.\n",
        "\n",
        "Recall that in order to formulate a problem as a linear program, we had\n",
        "to invoke a certainty assumption: we had to know what value the data took\n",
        "on, and we made decisions based on that data. Often this assumption is\n",
        "somewhat dubious: the data might be unknown, or guessed at, or otherwise\n",
        "inaccurate. How can we determine the effect on the optimal decisions if the\n",
        "values change? Clearly some numbers in the data are more important than\n",
        "others. Can we find the ''important'' numbers? Can we determine the effect\n",
        "of estimation errors?\n",
        "\n",
        "Linear programming offers extensive capabilities for addressing these\n",
        "questions.\n",
        "\n",
        "In particular, we will generate a Excel-style sensitivity report, like what Solver gives with Answer Report and Sensitivity Report."
      ],
      "metadata": {
        "id": "ZjTAZ5SdnYLs"
      }
    },
    {
      "cell_type": "code",
      "source": [
        "import pandas as pd\n",
        "# === VARIABLES SENSITIVITY REPORT ===\n",
        "var_data = []\n",
        "for var in model.getVars():\n",
        "    var_data.append([\n",
        "        var.VarName,\n",
        "        var.X,\n",
        "        var.RC,\n",
        "        var.Obj,\n",
        "        var.SAObjUp - var.Obj, # SAObjUp = smallest objective coefficient value at which the current optimal solution would remain optimal\n",
        "        var.Obj - var.SAObjLow\n",
        "    ])\n",
        "\n",
        "var_df = pd.DataFrame(var_data, columns=[\n",
        "    \"Variable\",\n",
        "    \"Final Value\",\n",
        "    \"Reduced Cost\",\n",
        "    \"Objective Coefficient\",\n",
        "    \"Allowable Increase\",\n",
        "    \"Allowable Decrease\"\n",
        "])\n",
        "\n",
        "# === CONSTRAINTS SENSITIVITY REPORT ===\n",
        "constr_data = []\n",
        "for constr in model.getConstrs():\n",
        "    constr_data.append([\n",
        "        constr.ConstrName,\n",
        "        constr.getAttr(\"Slack\") + constr.getAttr(\"RHS\"),\n",
        "        constr.getAttr(\"Pi\"),\n",
        "        constr.getAttr(\"RHS\"),\n",
        "        constr.getAttr(\"SARHSUp\") - constr.getAttr(\"RHS\"), # SARHSUp = largest right-hand side value at which the current optimal solution would remain optimal\n",
        "        constr.getAttr(\"RHS\") - constr.getAttr(\"SARHSLow\")\n",
        "    ])\n",
        "\n",
        "constr_df = pd.DataFrame(constr_data, columns=[\n",
        "    \"Constraint\",\n",
        "    \"Final Value (LHS)\",\n",
        "    \"Shadow Price\",\n",
        "    \"RHS\",\n",
        "    \"Allowable Increase\",\n",
        "    \"Allowable Decrease\"\n",
        "])\n",
        "\n",
        "# === PRINT OR EXPORT ===\n",
        "print(\"\\n--- VARIABLES SENSITIVITY REPORT ---\")\n",
        "print(var_df.round(4))\n",
        "\n",
        "print(\"\\n--- CONSTRAINTS SENSITIVITY REPORT ---\")\n",
        "print(constr_df.round(4))\n"
      ],
      "metadata": {
        "id": "PO2xWVXynbID",
        "colab": {
          "base_uri": "https://localhost:8080/"
        },
        "outputId": "3faf96e2-3319-479e-ef21-926340c916f0"
      },
      "execution_count": null,
      "outputs": [
        {
          "output_type": "stream",
          "name": "stdout",
          "text": [
            "\n",
            "--- VARIABLES SENSITIVITY REPORT ---\n",
            "   Variable  Final Value  Reduced Cost  Objective Coefficient  \\\n",
            "0    x[Jan]       0.0000       -0.0032                    0.0   \n",
            "1    x[Feb]       0.0000       -0.0000                    0.0   \n",
            "2    x[Mar]       0.0000       -0.0071                    0.0   \n",
            "3    x[Apr]       0.0000       -0.0032                    0.0   \n",
            "4    x[May]      52.0000        0.0000                    0.0   \n",
            "5    y[Jan]     150.0000        0.0000                    0.0   \n",
            "6    y[Feb]     100.0000        0.0000                    0.0   \n",
            "7    y[Mar]     151.9442        0.0000                    0.0   \n",
            "8    z[Jan]       0.0000       -0.0040                    0.0   \n",
            "9    z[Feb]       0.0000       -0.0071                    0.0   \n",
            "10   z[Mar]     351.9442        0.0000                    0.0   \n",
            "11   z[Apr]       0.0000       -0.0039                    0.0   \n",
            "12   z[May]       0.0000       -0.0070                    0.0   \n",
            "13        v      92.4969        0.0000                    1.0   \n",
            "\n",
            "    Allowable Increase  Allowable Decrease  \n",
            "0               0.0032                 inf  \n",
            "1               0.0000                 inf  \n",
            "2               0.0071                 inf  \n",
            "3               0.0032                 inf  \n",
            "4               0.0031              0.0000  \n",
            "5               0.0040              0.0032  \n",
            "6               0.0032              0.0000  \n",
            "7               0.0000              0.0032  \n",
            "8               0.0040                 inf  \n",
            "9               0.0071                 inf  \n",
            "10              0.0039              0.0032  \n",
            "11              0.0039                 inf  \n",
            "12              0.0070                 inf  \n",
            "13                 inf              1.0000  \n",
            "\n",
            "--- CONSTRAINTS SENSITIVITY REPORT ---\n",
            "         Constraint  Final Value (LHS)  Shadow Price    RHS  \\\n",
            "0       Constraint1              150.0       -1.0373  150.0   \n",
            "1       Constraint2              100.0       -1.0302  100.0   \n",
            "2       Constraint3             -200.0       -1.0200 -200.0   \n",
            "3       Constraint4              200.0       -1.0169  200.0   \n",
            "4       Constraint5              -50.0       -1.0100  -50.0   \n",
            "5       Constraint6             -300.0       -1.0000 -300.0   \n",
            "6   Constraint8_Jan              200.0        0.0000  100.0   \n",
            "7   Constraint8_Feb              200.0        0.0000  100.0   \n",
            "8   Constraint8_Mar              200.0        0.0000  100.0   \n",
            "9   Constraint8_Apr              200.0        0.0000  100.0   \n",
            "10  Constraint8_May              148.0        0.0000  100.0   \n",
            "\n",
            "    Allowable Increase  Allowable Decrease  \n",
            "0                  inf            149.4118  \n",
            "1              47.0588             50.9804  \n",
            "2                  inf            151.9442  \n",
            "3                  inf            152.4000  \n",
            "4              48.0000             52.0000  \n",
            "5                  inf                 inf  \n",
            "6                  inf            100.0000  \n",
            "7                  inf            100.0000  \n",
            "8                  inf            100.0000  \n",
            "9                  inf            100.0000  \n",
            "10                 inf             48.0000  \n"
          ]
        }
      ]
    },
    {
      "cell_type": "markdown",
      "source": [
        "The key columns for sensitivity analysis are the `Reduced Cost` (the `.RC`) and\n",
        "`Shadow Price` (the attribute `Pi`) columns. The shadow price $u$ of a constraint $C$ has the following interpretation:\n",
        "\n",
        "**If the right hand side of the constraint C changes by an amount $\\Delta$, the\n",
        "optimal objective value changes by $u \\Delta$, as long as the amount of change\n",
        "$\\Delta$ is within the allowable range.**\n",
        "\n",
        "For a linear program, the shadow price *u* is an exact figure, as long\n",
        "as the amount of change $\\Delta$ is within the allowable range given in the last\n",
        "two columns. When the change $\\Delta$ falls outside this range, the rate of change in the optimal objective value changes and the shadow price $u$ cannot be used. When this occurs, one has to resolve the linear program using the new data.\n",
        "\n",
        "\n",
        "Next, we consider several examples of sensitivity questions and demonstrate\n",
        "how they can be answered using shadow prices and reduced costs."
      ],
      "metadata": {
        "id": "WN-iGziGjhJK"
      }
    },
    {
      "cell_type": "markdown",
      "source": [
        "(1) Assume that Net Cash Flow in January were $-200$ (instead\n",
        "of $-150$). By how much would the company's wealth decrease at the\n",
        "end of June?\n",
        "\n",
        "* The answer is in the shadow price of the January constraint, $u =1.0373$. The RHS of the January constraint would go from $150$ to\n",
        "$200$, an increase of $\\Delta = 50$, which is within the allowable increase. So the company's wealth in June would decrease by $1.0373 *\n",
        "50,000 = \\$51,865$.\n",
        "\n",
        "\n",
        "(2) Assume that Net Cash Flow in March were $250$ (instead of $200$).\n",
        "By how much would the company's wealth increase at the end of June?\n",
        "\n",
        "* Again, the change $ \\Delta = 50$ is within the allowable decrease,\n",
        "so we can use the shadow price $u = 1.02$ to calculate the change in\n",
        "objective value. The increase is $(-1.02) * (-50) = \\$51,000$.\n",
        "\n",
        "\n",
        "(3) Assume that the credit limit were increased from $100$ to $200$. By how\n",
        "much would the company's wealth increase at the end of June?\n",
        "\n",
        "* In each month, the change $\\Delta = 100$ is within the allowable increase\n",
        "($+ \\infty$) and the shadow price for the credit limit constraint is $u = 0$.\n",
        "So there is no effect on the company's wealth in June. Note that\n",
        "non-binding constraints, such as the credit limit constraint for months\n",
        "January through May, always have zero shadow price.\n",
        "\n",
        "\n",
        "(4) Assume that the negative Net Cash Flow in January is partially due to the\n",
        "purchase of a machine worth $ \\$100,000$. The vendor allows the payment\n",
        "to be made in June at an interest rate of $3\\%$ for the 5-month period.\n",
        "Would the company's wealth increase or decrease by using this option?\n",
        "What if the interest rate for the 5-month period were $4\\%$?\n",
        "\n",
        "* The shadow price of the January constraint is $-1.0373$. This means\n",
        "that reducing cash requirements in January by $\\$1$ increases the wealth\n",
        "in June by $\\$1.0373$. In other words, the break even interest rate for\n",
        "the 5-month period is $3.73\\%$. So, if the vendor charges $3\\%$, we should\n",
        "accept, but if he charges $4\\%$ we should not. Note that the analysis is\n",
        "valid since the amount $\\Delta = -100$ is within the allowable decrease."
      ],
      "metadata": {
        "id": "kT9RTNMbkzUh"
      }
    }
  ]
}