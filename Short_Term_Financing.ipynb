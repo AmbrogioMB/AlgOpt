{
  "nbformat": 4,
  "nbformat_minor": 0,
  "metadata": {
    "colab": {
      "provenance": [],
      "toc_visible": true,
      "authorship_tag": "ABX9TyNL1N6pfXF8CvIp3nYOo4ij",
      "include_colab_link": true
    },
    "kernelspec": {
      "name": "python3",
      "display_name": "Python 3"
    },
    "language_info": {
      "name": "python"
    }
  },
  "cells": [
    {
      "cell_type": "markdown",
      "metadata": {
        "id": "view-in-github",
        "colab_type": "text"
      },
      "source": [
        "<a href=\"https://colab.research.google.com/github/AmbrogioMB/AlgOpt/blob/main/Short_Term_Financing.ipynb\" target=\"_parent\"><img src=\"https://colab.research.google.com/assets/colab-badge.svg\" alt=\"Open In Colab\"/></a>"
      ]
    },
    {
      "cell_type": "markdown",
      "source": [
        "## 1. The problem\n",
        "Corporations routinely face the problem of financing short term cash commitments.\n",
        "Linear programming can help in figuring out an optimal combination\n",
        "of financial instruments to meet these commitments.\n",
        "\n",
        "A company has the following short term financing problem.\n",
        "\n",
        "$$\n",
        "\\begin{array}{|c|r|}\n",
        "\\hline\n",
        "\\textbf{Month} & \\textbf{Net cash flow} \\\\\n",
        "\\hline\n",
        "\\text{Jan} & -150 \\\\\n",
        "\\text{Feb} & -100 \\\\\n",
        "\\text{Mar} & 200 \\\\\n",
        "\\text{Apr} & -200 \\\\\n",
        "\\text{May} & 50 \\\\\n",
        "\\text{Jun} & 300 \\\\\n",
        "\\hline\n",
        "\\end{array}\n",
        "$$\n",
        "\n",
        "Net cash flow requirements are given in thousands of dollars. The company\n",
        "has the following sources of funds\n",
        " * A line of credit of up to $\\$100$K at an interest rate of $1\\%$ per month,\n",
        " * In any one of the first three months, it can issue 90-day commercial\n",
        "paper bearing a total interest of $2\\%$ for the 3-month period,\n",
        " * Excess funds can be invested at an interest rate of $0.3\\%$ per month."
      ],
      "metadata": {
        "id": "I9O8bnwDk9m4"
      }
    },
    {
      "cell_type": "code",
      "source": [
        "month = ['Jan', 'Feb', 'Mar', 'Apr', 'May', 'Jun']\n",
        "cash_flow = [-150, -100, 200, -200, 50, 300]"
      ],
      "metadata": {
        "id": "TFGNRa5XQRjh"
      },
      "execution_count": null,
      "outputs": []
    },
    {
      "cell_type": "markdown",
      "source": [
        "## 2. Modeling\n",
        "We begin by modeling the above short term financing problem. That is,\n",
        "we write it in the language of linear programming. There are rules about\n",
        "what one can and cannot do within linear programming. These rules are in\n",
        "place to make certain that the remaining steps of the process (solving and\n",
        "interpreting) can be successful.\n",
        "\n",
        "Key to a linear program are the *decision variables*, *objective*, and *constraints*."
      ],
      "metadata": {
        "id": "gX1Ev2aflqln"
      }
    },
    {
      "cell_type": "code",
      "source": [
        "!pip install gurobipy"
      ],
      "metadata": {
        "id": "pQKfoVEPc-z3"
      },
      "execution_count": null,
      "outputs": []
    },
    {
      "cell_type": "markdown",
      "source": [
        "### 2.1 Decision Variables\n",
        "The decision variables represent (unknown) decisions\n",
        "to be made. This is in contrast to problem data, which are values that\n",
        "are either given or can be simply calculated from what is given. For the\n",
        "short term financing problem, there are several possible choices of decision\n",
        "variables. We will use the following decision variables: the amount $x_i$ drawn\n",
        "from the line of credit in month $i$, the amount $y_i$ of commercial paper issued in month $i$, the excess funds $z_i$ in month $i$ and the company's wealth v in June. Note that, alternatively, one could use the decision variables $x_i$ and $z_i$ only, since excess funds and company's wealth can be deduced from these variables."
      ],
      "metadata": {
        "id": "fZxO3wYwt8Ir"
      }
    },
    {
      "cell_type": "code",
      "execution_count": null,
      "metadata": {
        "id": "tkMJUhBCbi37"
      },
      "outputs": [],
      "source": [
        "import gurobipy as gp\n",
        "from gurobipy import GRB\n",
        "\n",
        "model = gp.Model(\"Short Term Financing\")\n",
        "\n",
        "# Variables. Note that the default value of the lower bound is 0\n",
        "x = model.addVars(month[:-1], name=\"x\", vtype=GRB.CONTINUOUS, ub=GRB.INFINITY)\n",
        "y = model.addVars(month[:3], name=\"y\", vtype=GRB.CONTINUOUS, ub=GRB.INFINITY)\n",
        "z = model.addVars(month[:-1], name=\"z\", vtype=GRB.CONTINUOUS, ub=GRB.INFINITY)\n",
        "v = model.addVar(name=\"v\", vtype=GRB.CONTINUOUS, lb=-GRB.INFINITY, ub=GRB.INFINITY)"
      ]
    },
    {
      "cell_type": "markdown",
      "source": [
        "### 2.2 Objective\n",
        "Every linear program has an objective. This objective is to be either minimized or maximized. This objective has to be linear in the decision variables, which means it must be the sum of constants times decision variables.\n",
        "\n",
        "In this case, our objective is simply to maximize $v$."
      ],
      "metadata": {
        "id": "7rylRoIFuGAu"
      }
    },
    {
      "cell_type": "code",
      "source": [
        "# Objective\n",
        "model.setObjective(v, GRB.MAXIMIZE)"
      ],
      "metadata": {
        "id": "LV0KudeGlqNu"
      },
      "execution_count": null,
      "outputs": []
    },
    {
      "cell_type": "markdown",
      "source": [
        "### 2.3 Constraints\n",
        "Every linear program also has constraints limiting feasible\n",
        "decisions. Here we have three types of constraints: (i) cash inflow = cash outflow for each month, (ii) upper bounds on $x_i$, and (iii) nonnegativity of\n",
        "the decision variables $x_i$, $y_i$ and $z_i$.\n",
        "\n",
        "For example, in January ($i = 1$), there is a cash requirement of $150$.\n",
        "To meet this requirement, the company can draw an amount $x_1$ from its\n",
        "line of credit and issue an amount $y_1$ of commercial paper. Considering the\n",
        "possibility of excess funds $z_1$ (possibly 0), the cash flow balance equation is as follows."
      ],
      "metadata": {
        "id": "suCGJ2JVuJui"
      }
    },
    {
      "cell_type": "code",
      "source": [
        "model.addLConstr(x['Jan'] + y['Jan'] - z['Jan'] == 150, \"Constraint1\")"
      ],
      "metadata": {
        "id": "tn9JUtnJTbXX"
      },
      "execution_count": null,
      "outputs": []
    },
    {
      "cell_type": "markdown",
      "source": [
        "Next, in February ($i = 2$), there is a cash requirement of $100$. In addition,\n",
        "principal plus interest of $1.01x_1$ is due on the line of credit and $1.003z_1$ is received on the invested excess funds. To meet the requirement in February, the company can draw an amount $x_2$ from its line of credit and issue an amount $y_2$ of commercial paper. So, the cash flow balance equation for February is as follows."
      ],
      "metadata": {
        "id": "iDejuEfUTxRT"
      }
    },
    {
      "cell_type": "code",
      "source": [
        "model.addLConstr(x['Feb'] + y['Feb'] - 1.01*x['Jan'] + 1.003*z['Jan'] - z['Feb'] == 100, \"Constraint2\")"
      ],
      "metadata": {
        "id": "zV8hOmVfUbJg"
      },
      "execution_count": null,
      "outputs": []
    },
    {
      "cell_type": "markdown",
      "source": [
        "Similarly, for March we get the following equation:"
      ],
      "metadata": {
        "id": "3GYdoni6Utu8"
      }
    },
    {
      "cell_type": "code",
      "source": [
        "model.addLConstr(x['Mar'] + y['Mar'] - 1.01*x['Feb'] + 1.003*z['Feb'] - z['Mar'] == -200, \"Constraint3\")"
      ],
      "metadata": {
        "id": "_VqiW3jIU16N"
      },
      "execution_count": null,
      "outputs": []
    },
    {
      "cell_type": "markdown",
      "source": [
        "For the months of April, May, and June, issuing a commercial paper is\n",
        "no longer an option, so we will not have variables $y_4$, $y_5$, and $y_6$ in the formulation. Furthermore, any commercial paper issued between January\n",
        "and March requires a payment with $2\\%$ interest 3 months later. Thus, we\n",
        "have the following additional equations:"
      ],
      "metadata": {
        "id": "eju0IlvBVCnB"
      }
    },
    {
      "cell_type": "code",
      "source": [
        "model.addLConstr(x['Apr'] - 1.02*y['Jan'] - 1.01*x['Mar'] + 1.003*z['Mar'] - z['Apr'] == 200, \"Constraint4\")\n",
        "model.addLConstr(x['May'] - 1.02*y['Feb'] - 1.01*x['Apr'] + 1.003*z['Apr'] - z['May'] == -50, \"Constraint5\")\n",
        "model.addLConstr( - 1.02*y['Mar'] - 1.01*x['May'] + 1.003*z['May'] - v == -300, \"Constraint6\")"
      ],
      "metadata": {
        "id": "mQJzAUdVWaSW"
      },
      "execution_count": null,
      "outputs": []
    },
    {
      "cell_type": "markdown",
      "source": [
        "Note that $x_i$ is the balance on the credit line in month $i$, not the incremental borrowing in month $i$. Similarly, $z_i$ represents the overall excess funds in month $i$. This choice of variables is quite convenient when it comes to writing down the upper bound and nonnegativity constraints."
      ],
      "metadata": {
        "id": "WHhGgnePXcEG"
      }
    },
    {
      "cell_type": "code",
      "source": [
        "for i in month[:-1]:\n",
        "  model.addLConstr(x[i] <= 100, \"Constraint8_{}\".format(i))\n",
        "  # Note that the variables x,y,z are non-negative because of their definition"
      ],
      "metadata": {
        "id": "wFGT5TdXXm-r"
      },
      "execution_count": null,
      "outputs": []
    },
    {
      "cell_type": "markdown",
      "source": [
        "## 3. Solving\n",
        "We now simply optimize our LP.\n"
      ],
      "metadata": {
        "id": "RYvvDQQAnDo9"
      }
    },
    {
      "cell_type": "code",
      "source": [
        "model.optimize()"
      ],
      "metadata": {
        "id": "-YWLMWmPnLKk"
      },
      "execution_count": null,
      "outputs": []
    },
    {
      "cell_type": "markdown",
      "source": [
        "And retrive the value of the variables that attains the optimum."
      ],
      "metadata": {
        "id": "AAKDQFvwaY1i"
      }
    },
    {
      "cell_type": "code",
      "source": [
        "if model.status == GRB.OPTIMAL:\n",
        "    x_values = {i: x[i].x for i in month[:-1]}\n",
        "    y_values = {i: y[i].x for i in month[:3]}\n",
        "    z_values = {i: z[i].x for i in month[:-1]}\n",
        "    v_value = v.x\n",
        "\n",
        "    print(\"Decision variables:\")\n",
        "    print(\"   x:\", x_values)\n",
        "    print(\"   y:\", y_values)\n",
        "    print(\"   z:\", z_values)\n",
        "    print(\"   v:\", v_value)\n",
        "    print(\"Objective value:\", model.objVal)"
      ],
      "metadata": {
        "id": "BZIsr1xIZeZB"
      },
      "execution_count": null,
      "outputs": []
    },
    {
      "cell_type": "markdown",
      "source": [
        "### 3.1 Exercise\n",
        "How would the formulation of the short-term fiancing problem above change if the commercial papers issued had a 2 month maturity instead of 3?"
      ],
      "metadata": {
        "id": "uYCBPREYcA7P"
      }
    },
    {
      "cell_type": "code",
      "source": [
        "### write the new model and optimize it\n",
        "model_new = gp.Model(\"Short Term Financing - New\")"
      ],
      "metadata": {
        "id": "iAqTthrjcLAo"
      },
      "execution_count": null,
      "outputs": []
    },
    {
      "cell_type": "markdown",
      "source": [
        "## 4. Features of Linear Programs\n",
        "\n",
        "Hidden in each linear programming formulation are a number of assumptions.\n",
        "The usefulness of an LP model is directly related to how closely reality\n",
        "matches up with these assumptions.\n",
        "\n",
        "The first two assumptions are due to the linear form of the objective\n",
        "and constraint functions. The contribution to the objective of any decision\n",
        "variable is proportional to the value of the decision variable. Similarly,\n",
        "the contribution of each variable to the left hand side of each constraint\n",
        "is proportional to the value of the variable. This is the *Proportionality\n",
        "Assumption*.\n",
        "\n",
        "Furthermore, the contribution of a variable to the objective and constraints\n",
        "is independent of the values of the other variables. This is the\n",
        "*Additivity Assumption*. When additivity or proportionality assumptions are\n",
        "not satisfied, a nonlinear programming model may be more appropriate.\n",
        "\n",
        "The next assumption is the *Divisibility Assumption*: is it possible to\n",
        "take any fraction of any variable? A fractional production quantity may be\n",
        "worrisome if we are producing a small number of battleships or be innocuous\n",
        "if we are producing millions of paperclips. If the Divisibility Assumption is\n",
        "important and does not hold, then a technique called integer programming\n",
        "rather than linear programming is required. This technique takes orders\n",
        "of magnitude more time to find solutions but may be necessary to create\n",
        "realistic solutions.\n",
        "\n",
        "The final assumption is the *Certainty Assumption*: linear programming\n",
        "allows for no uncertainty about the input parameters such as the cash-flow\n",
        "requirements or interest rates we used in the short-term financing model.\n",
        "Problems with uncertain parameters can be addressed using stochastic programming\n",
        "or robust optimization approaches.\n",
        "\n",
        "It is very rare that a problem will meet all of the assumptions exactly.\n",
        "That does not negate the usefulness of a model. A model can still give\n",
        "useful managerial insight even if reality differs slightly from the rigorous\n",
        "requirements of the model."
      ],
      "metadata": {
        "id": "JcAry1H6dvuX"
      }
    },
    {
      "cell_type": "markdown",
      "source": [
        "## 5. Sensitivity Analysis\n",
        "The optimal solution to a linear programming model is the most important\n",
        "output of LP solvers, but it is not the only useful information they generate.\n",
        "Most linear programming packages produce a tremendous amount of sensitivity\n",
        "information, or information about what happens when data values\n",
        "are changed.\n",
        "\n",
        "Recall that in order to formulate a problem as a linear program, we had\n",
        "to invoke a certainty assumption: we had to know what value the data took\n",
        "on, and we made decisions based on that data. Often this assumption is\n",
        "somewhat dubious: the data might be unknown, or guessed at, or otherwise\n",
        "inaccurate. How can we determine the effect on the optimal decisions if the\n",
        "values change? Clearly some numbers in the data are more important than\n",
        "others. Can we find the ''important'' numbers? Can we determine the effect\n",
        "of estimation errors?\n",
        "\n",
        "Linear programming offers extensive capabilities for addressing these\n",
        "questions.\n",
        "\n",
        "In particular, we will generate a Excel-style sensitivity report, like what Solver gives with Answer Report and Sensitivity Report."
      ],
      "metadata": {
        "id": "ZjTAZ5SdnYLs"
      }
    },
    {
      "cell_type": "code",
      "source": [
        "import pandas as pd\n",
        "# === VARIABLES SENSITIVITY REPORT ===\n",
        "var_data = []\n",
        "for var in model.getVars():\n",
        "    var_data.append([\n",
        "        var.VarName,\n",
        "        var.X,\n",
        "        var.RC,\n",
        "        var.Obj,\n",
        "        var.SAObjUp - var.Obj,\n",
        "        var.Obj - var.SAObjLow\n",
        "    ])\n",
        "\n",
        "var_df = pd.DataFrame(var_data, columns=[\n",
        "    \"Variable\",\n",
        "    \"Final Value\",\n",
        "    \"Reduced Cost\",\n",
        "    \"Objective Coefficient\",\n",
        "    \"Allowable Increase\",\n",
        "    \"Allowable Decrease\"\n",
        "])\n",
        "\n",
        "# === CONSTRAINTS SENSITIVITY REPORT ===\n",
        "constr_data = []\n",
        "for constr in model.getConstrs():\n",
        "    constr_data.append([\n",
        "        constr.ConstrName,\n",
        "        constr.getAttr(\"Slack\") + constr.getAttr(\"RHS\"),\n",
        "        constr.getAttr(\"Pi\"),\n",
        "        constr.getAttr(\"RHS\"),\n",
        "        constr.getAttr(\"SARHSUp\") - constr.getAttr(\"RHS\"),\n",
        "        constr.getAttr(\"RHS\") - constr.getAttr(\"SARHSLow\")\n",
        "    ])\n",
        "\n",
        "constr_df = pd.DataFrame(constr_data, columns=[\n",
        "    \"Constraint\",\n",
        "    \"Final Value (LHS)\",\n",
        "    \"Shadow Price\",\n",
        "    \"RHS\",\n",
        "    \"Allowable Increase\",\n",
        "    \"Allowable Decrease\"\n",
        "])\n",
        "\n",
        "# === PRINT OR EXPORT ===\n",
        "print(\"\\n--- VARIABLES SENSITIVITY REPORT ---\")\n",
        "print(var_df.round(4))\n",
        "\n",
        "print(\"\\n--- CONSTRAINTS SENSITIVITY REPORT ---\")\n",
        "print(constr_df.round(4))\n"
      ],
      "metadata": {
        "id": "PO2xWVXynbID"
      },
      "execution_count": null,
      "outputs": []
    },
    {
      "cell_type": "markdown",
      "source": [
        "The key columns for sensitivity analysis are the `Reduced Cost` (the `.RC`) and\n",
        "`Shadow Price` (the attribute `Pi`) columns. The shadow price $u$ of a constraint $C$ has the following interpretation:\n",
        "\n",
        "**If the right hand side of the constraint C changes by an amount $\\Delta$, the\n",
        "optimal objective value changes by $u \\Delta$, as long as the amount of change\n",
        "$\\Delta$ is within the allowable range.**\n",
        "\n",
        "For a linear program, the shadow price *u* is an exact figure, as long\n",
        "as the amount of change $\\Delta$ is within the allowable range given in the last\n",
        "two columns. When the change $\\Delta$ falls outside this range, the rate of change in the optimal objective value changes and the shadow price $u$ cannot be used. When this occurs, one has to resolve the linear program using the new data.\n",
        "\n",
        "\n",
        "Next, we consider several examples of sensitivity questions and demonstrate\n",
        "how they can be answered using shadow prices and reduced costs."
      ],
      "metadata": {
        "id": "WN-iGziGjhJK"
      }
    },
    {
      "cell_type": "markdown",
      "source": [
        "(1) Assume that Net Cash Flow in January were $-200$ (instead\n",
        "of $-150$). By how much would the company's wealth decrease at the\n",
        "end of June?\n",
        "\n",
        "* The answer is in the shadow price of the January constraint, $u =1.0373$. The RHS of the January constraint would go from $150$ to\n",
        "$200$, an increase of $\\Delta = 50$, which is within the allowable increase\n",
        "($89.17$). So the company's wealth in June would decrease by $1.0373 *\n",
        "50,000 = \\$51,865$.\n",
        "\n",
        "\n",
        "(2) Assume that Net Cash Flow in March were $250$ (instead of $200$).\n",
        "By how much would the company's wealth increase at the end of June?\n",
        "\n",
        "* Again, the change $ \\Delta = 50$ is within the allowable decrease ($203.434$),\n",
        "so we can use the shadow price $u = 1.02$ to calculate the change in\n",
        "objective value. The increase is $(-1.02) * (-50) = \\$51,000$.\n",
        "\n",
        "\n",
        "(3) Assume that the credit limit were increased from $100$ to $200$. By how\n",
        "much would the company's wealth increase at the end of June?\n",
        "\n",
        "* In each month, the change $\\Delta = 100$ is within the allowable increase\n",
        "($+ \\infty$) and the shadow price for the credit limit constraint is $u = 0$.\n",
        "So there is no effect on the company's wealth in June. Note that\n",
        "non-binding constraints, such as the credit limit constraint for months\n",
        "January through May, always have zero shadow price.\n",
        "\n",
        "\n",
        "(4) Assume that the negative Net Cash Flow in January is due to the\n",
        "purchase of a machine worth $ \\$150,000$. The vendor allows the payment\n",
        "to be made in June at an interest rate of $3\\%$ for the 5-month period.\n",
        "Would the company's wealth increase or decrease by using this option?\n",
        "What if the interest rate for the 5-month period were $4\\%$?\n",
        "\n",
        "* The shadow price of the January constraint is $-1.0373$. This means\n",
        "that reducing cash requirements in January by $\\$1$ increases the wealth\n",
        "in June by $\\$1.0373$. In other words, the break even interest rate for\n",
        "the 5-month period is $3.73\\%$. So, if the vendor charges $3\\%$, we should\n",
        "accept, but if he charges $4\\%$ we should not. Note that the analysis is\n",
        "valid since the amount $\\Delta = -150$ is within the allowable decrease.\n",
        "\n",
        "\n",
        "(5) Now, let us consider the reduced costs. The basic variables always\n",
        "have a zero reduced cost. The nonbasic variables (which by definition\n",
        "take the value $0$) have a nonpositive reduced cost and, frequently their\n",
        "reduced cost is strictly negative. There are two useful interpretations\n",
        "of the reduced cost $c$, for a nonbasic variable $x$.\n",
        "\n",
        "* First, assume that $x$ is set to a positive value $\\Delta$ instead of its optimal value $0$. Then, the objective value is changed by $c\\Delta$. For example, what would be the effect of financing part of the January cash needs\n",
        "through the line of credit? The answer is in the reduced cost of variable\n",
        "$x_1$. Because this reduced cost $-0.0032$ is strictly negative, the objective\n",
        "function would decrease. Specifically, each dollar financed through the\n",
        "line of credit in January would result in a decrease of $\\$0.0032$ in the\n",
        "company's wealth $v$ in June.\n",
        "* The second interpretation of $c$ is that its magnitude $|c|$ is the minimum\n",
        "amount by which the objective coefficient of $x$ must be increased in\n",
        "order for the variable $x$ to become positive in an optimal solution.\n",
        "For example, consider the variable $x_1$ again. Its value is zero in the\n",
        "current optimal solution, with objective function $v$. However, if we\n",
        "changed the objective to $v +0.0032x_1$, it would now be optimal to use\n",
        "the line of credit in January. In other words, the reduced cost on $x_1$\n",
        "can be viewed as the minimum rebate that the bank would have to\n",
        "offer (payable in June) to make it attractive to use the line of credit\n",
        "in January.\n"
      ],
      "metadata": {
        "id": "kT9RTNMbkzUh"
      }
    }
  ]
}