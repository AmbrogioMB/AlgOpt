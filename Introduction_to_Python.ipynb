{
  "cells": [
    {
      "cell_type": "markdown",
      "metadata": {
        "id": "view-in-github",
        "colab_type": "text"
      },
      "source": [
        "<a href=\"https://colab.research.google.com/github/AmbrogioMB/AlgOpt/blob/main/Introduction_to_Python.ipynb\" target=\"_parent\"><img src=\"https://colab.research.google.com/assets/colab-badge.svg\" alt=\"Open In Colab\"/></a>"
      ]
    },
    {
      "cell_type": "markdown",
      "metadata": {
        "id": "83a5dYNPOBac"
      },
      "source": [
        "# 1. Introduction to Python\n",
        "In this first notebook, we present the basic syntax of Python. The purpose of this tutorial is to cover the Python features and libraries that will be useful during this course.\n",
        "\n",
        "For an overview on how to use the Colab Notebooks, we recommend this [video tutorial](https://www.youtube.com/watch?v=inN8seMm7UI).\n",
        "\n",
        "### Playing with this notebook\n",
        "We recommend to try every code snippets, once at the time. You can modify any line of code to better understand how the Python interpreter executes each command."
      ]
    },
    {
      "cell_type": "markdown",
      "metadata": {
        "id": "tSEAShw8dN8u"
      },
      "source": [
        "## 1.1 Basic Data Types & others\n",
        "Let us start by considering the basic data types used in almost every useful program: *numbers*, *logical values*, and *strings*.\n",
        "\n",
        "We will also have a look at variables and math functions."
      ]
    },
    {
      "cell_type": "markdown",
      "metadata": {
        "id": "YeyGQwQNBKpp"
      },
      "source": [
        "### 1.1.1 Numbers and variables\n",
        "A **variable** is a name that refers to a value.\n",
        "Look at the following code, where we are defining a program variable named `a` to which we assign the value 1.\n",
        "* To execute the code either click the *play* icon or press CTRL+ENTER.\n",
        "* To execute the code and add another code cell, press ALT+ENTER."
      ]
    },
    {
      "cell_type": "code",
      "execution_count": null,
      "metadata": {
        "id": "PZwL2CFfOcdB"
      },
      "outputs": [],
      "source": [
        "a = 1"
      ]
    },
    {
      "cell_type": "code",
      "execution_count": null,
      "metadata": {
        "id": "IcteYLS0CGt-"
      },
      "outputs": [],
      "source": [
        "print(a)"
      ]
    },
    {
      "cell_type": "markdown",
      "metadata": {
        "id": "thax81TcPRWf"
      },
      "source": [
        "To check the type of a variable, you can use the `type` function:"
      ]
    },
    {
      "cell_type": "code",
      "execution_count": null,
      "metadata": {
        "id": "cHhi8rrLPAhx"
      },
      "outputs": [],
      "source": [
        "type(a)"
      ]
    },
    {
      "cell_type": "markdown",
      "source": [
        " Python can work with several types of numbers, but the two most common are:\n",
        "\n",
        "* `int`, which represents integer values like `3`, and\n",
        "\n",
        "* `float`, which represents numbers that have a fraction part, like `3.14159`.\n"
      ],
      "metadata": {
        "id": "CnYPKhxh2uWh"
      }
    },
    {
      "cell_type": "markdown",
      "metadata": {
        "id": "gSXNSKvAPbsA"
      },
      "source": [
        "By default, the notebook interpreter executes a single block of code, and it tries to print a value resulting from the evaluation of an expression. Note that `a = 1` is an assignment operation, which does not produce a visible result, and hence the interpreter do not print anything. While `type(a)` is a function invocation that returns the type of the variable `a`, thus printing its value on the screen.\n",
        "\n",
        "> Please, take the good habit of reading the documentation.\n",
        "\n",
        "The function `type` is fully described online a this link: [type](https://docs.python.org/3/library/functions.html#type)"
      ]
    },
    {
      "cell_type": "markdown",
      "metadata": {
        "id": "zFjTil60mAFl"
      },
      "source": [
        "Consider the following two lines:"
      ]
    },
    {
      "cell_type": "code",
      "execution_count": null,
      "metadata": {
        "id": "1UeuHt6vPX_q"
      },
      "outputs": [],
      "source": [
        "a = 1.0\n",
        "print(type(a))"
      ]
    },
    {
      "cell_type": "markdown",
      "metadata": {
        "id": "n2hgIppIQoCq"
      },
      "source": [
        "In this case, the notebook interpreter has recognized at runtime that `1.0` is a floating number, and, as a consequence, the type of `a` is bind to `float`."
      ]
    },
    {
      "cell_type": "code",
      "execution_count": null,
      "metadata": {
        "id": "t5nl9r1NQkyx"
      },
      "outputs": [],
      "source": [
        "a = 1.0\n",
        "b = 1\n",
        "c = b + a\n",
        "type(c)"
      ]
    },
    {
      "cell_type": "markdown",
      "metadata": {
        "id": "7ddNSNMxDrPT"
      },
      "source": [
        "In Python, we have all the basic arithmetic operators:"
      ]
    },
    {
      "cell_type": "code",
      "execution_count": null,
      "metadata": {
        "id": "rjMHWF-ntl52"
      },
      "outputs": [],
      "source": [
        "3 + 2 - 1"
      ]
    },
    {
      "cell_type": "code",
      "execution_count": null,
      "metadata": {
        "id": "LI_folzrtl52"
      },
      "outputs": [],
      "source": [
        "2 * 3"
      ]
    },
    {
      "cell_type": "code",
      "execution_count": null,
      "metadata": {
        "id": "MTJt2iuktl52"
      },
      "outputs": [],
      "source": [
        "2 / 3"
      ]
    },
    {
      "cell_type": "markdown",
      "metadata": {
        "id": "kFdhA7Xmtl55"
      },
      "source": [
        "The arithmetic operators follow the rules of precedence you might have learned as \"PEMDAS\":\n",
        "\n",
        "* Parentheses before\n",
        "* Exponentiation before\n",
        "* Multiplication and division before\n",
        "* Addition and subtraction.\n",
        "\n",
        "So in this expression:"
      ]
    },
    {
      "cell_type": "code",
      "execution_count": null,
      "metadata": {
        "id": "g-iEn3nWtl55"
      },
      "outputs": [],
      "source": [
        "1 + 2 * 3"
      ]
    },
    {
      "cell_type": "code",
      "execution_count": null,
      "metadata": {
        "id": "wvDWZXVdtl55"
      },
      "outputs": [],
      "source": [
        "(1 + 2) * 3"
      ]
    },
    {
      "cell_type": "markdown",
      "metadata": {
        "id": "xcLpTCoGEfow"
      },
      "source": [
        "The power (exponent) operator is the double star `**`:"
      ]
    },
    {
      "cell_type": "code",
      "execution_count": null,
      "metadata": {
        "id": "YVBvTjzMmAFo"
      },
      "outputs": [],
      "source": [
        "2**3"
      ]
    },
    {
      "cell_type": "markdown",
      "metadata": {
        "id": "TnvBvacntl55"
      },
      "source": [
        "### 1.1.2 Math Functions\n",
        "\n",
        "Python provides functions that compute mathematical functions like `sin` and `cos`, `exp` and `log`.\n",
        "However, they are not part of Python itself, but they are available from a **library**, which is a collection of values and functions.\n",
        "The one we'll use is called NumPy, which stands for \"Numerical Python\", and is pronounced \"num pie\".\n",
        "Before you can use a library, you have to **import** it.\n",
        "Here's how we import NumPy:  "
      ]
    },
    {
      "cell_type": "code",
      "execution_count": null,
      "metadata": {
        "id": "skf2ATYKtl56"
      },
      "outputs": [],
      "source": [
        "import numpy as np"
      ]
    },
    {
      "cell_type": "code",
      "execution_count": null,
      "metadata": {
        "id": "m2PK_LFttl57"
      },
      "outputs": [],
      "source": [
        "np.pi"
      ]
    },
    {
      "cell_type": "markdown",
      "metadata": {
        "id": "esX-Ud7Utl57"
      },
      "source": [
        "The result is a `float` with 16 digits.  As you might know, we can't represent $\\pi$ with a finite number of digits, so this result is only approximate.\n",
        "\n",
        "NumPy provides `log`, which computes the natural logarithm"
      ]
    },
    {
      "cell_type": "code",
      "execution_count": null,
      "metadata": {
        "id": "x2FD6GyItl57"
      },
      "outputs": [],
      "source": [
        "print(np.log(100))\n",
        "print(np.log10(100))\n",
        "print(np.log2(256))"
      ]
    },
    {
      "cell_type": "markdown",
      "metadata": {
        "id": "BX-FxtBGtl57"
      },
      "source": [
        "NumPy also provides `exp`, which raises the constant `e` to a power."
      ]
    },
    {
      "cell_type": "code",
      "execution_count": null,
      "metadata": {
        "id": "ZcLjLhqQtl57"
      },
      "outputs": [],
      "source": [
        "np.exp(1)"
      ]
    },
    {
      "cell_type": "markdown",
      "metadata": {
        "id": "KPweQsDhRh0t"
      },
      "source": [
        "### 1.1.3 Logical values\n",
        "The two logical values are denoted by the reserved keywords `True` and `False`, which are of type `bool`. The logical operators are written in plain English: `and`, `or`, `not`. For example:"
      ]
    },
    {
      "cell_type": "code",
      "execution_count": null,
      "metadata": {
        "id": "ypabIaxwQ9FB"
      },
      "outputs": [],
      "source": [
        "a = True\n",
        "b = False\n",
        "a and b"
      ]
    },
    {
      "cell_type": "code",
      "execution_count": null,
      "metadata": {
        "id": "Kpt6eorYR39y"
      },
      "outputs": [],
      "source": [
        "a or not b"
      ]
    },
    {
      "cell_type": "code",
      "execution_count": null,
      "metadata": {
        "id": "2d5GQ9mbR6WA"
      },
      "outputs": [],
      "source": [
        "not a or b"
      ]
    },
    {
      "cell_type": "code",
      "execution_count": null,
      "metadata": {
        "id": "W7UXEtrZE0K1"
      },
      "outputs": [],
      "source": [
        "type(a)"
      ]
    },
    {
      "cell_type": "markdown",
      "metadata": {
        "id": "iATDizvRSewF"
      },
      "source": [
        "Note that we reuse *on the fly* the variable named `a` several times, dynamically changing its type more than once.\n",
        "\n"
      ]
    },
    {
      "cell_type": "markdown",
      "metadata": {
        "id": "IA9eXA0DFC_B"
      },
      "source": [
        "### 1.1.4 Strings\n",
        "Another very useful data type is **string**, which is an ordered sequence of characters.\n",
        "\n",
        "Example:"
      ]
    },
    {
      "cell_type": "code",
      "execution_count": null,
      "metadata": {
        "id": "towDdZoLR9Wn"
      },
      "outputs": [],
      "source": [
        "a = \"COVID-19\""
      ]
    },
    {
      "cell_type": "code",
      "execution_count": null,
      "metadata": {
        "id": "pvAEX1_aS473"
      },
      "outputs": [],
      "source": [
        "print(a)"
      ]
    },
    {
      "cell_type": "code",
      "execution_count": null,
      "metadata": {
        "id": "dmCrkVJtS6B-"
      },
      "outputs": [],
      "source": [
        "a"
      ]
    },
    {
      "cell_type": "code",
      "execution_count": null,
      "metadata": {
        "id": "-N2r5Bd1S6mg"
      },
      "outputs": [],
      "source": [
        "type(a)"
      ]
    },
    {
      "cell_type": "markdown",
      "metadata": {
        "id": "CVaiDGOxS-yp"
      },
      "source": [
        "The type of a string is denoted by `str`.\n",
        "\n",
        "The Python string have several useful builtin functions, as for instances:"
      ]
    },
    {
      "cell_type": "code",
      "execution_count": null,
      "metadata": {
        "id": "P_lovXEES9Ef"
      },
      "outputs": [],
      "source": [
        "print(a.lower(), a.split('-'))"
      ]
    },
    {
      "cell_type": "markdown",
      "metadata": {
        "id": "2xSSEsN3Tslz"
      },
      "source": [
        "First, we have converted a string into lower case with `lower()` function, and then we have split the string using as delimiter the string `-`."
      ]
    },
    {
      "cell_type": "markdown",
      "metadata": {
        "id": "rdgW0SHxVF8q"
      },
      "source": [
        "## 1.2 Data Containers\n",
        "Python has three powerful builtin data-types to store aggregate data (click on each word the get the online documentation):\n",
        "\n",
        "1. [`tuple`](https://docs.python.org/3/library/functions.html#func-tuple)\n",
        "2. [`list`](https://docs.python.org/3/library/functions.html#func-list)\n",
        "3. [`dictionary`](https://docs.python.org/3/library/functions.html#func-dict)\n",
        "\n",
        "Other useful containers are\n",
        "\n",
        "4. [`set`](https://docs.python.org/3/library/functions.html#func-set)\n",
        "5. [`numpy.array`](https://numpy.org/doc/stable/reference/generated/numpy.array.html)"
      ]
    },
    {
      "cell_type": "markdown",
      "metadata": {
        "id": "lxYPIVuRdH_2"
      },
      "source": [
        "### 1.2.1 Tuple\n",
        "A **tuple** is an ordered sequence of elements. Each element can be of a different type."
      ]
    },
    {
      "cell_type": "code",
      "execution_count": null,
      "metadata": {
        "id": "H8Wy8-cYTTra"
      },
      "outputs": [],
      "source": [
        "a = 1, 2\n",
        "print(a, type(a))"
      ]
    },
    {
      "cell_type": "markdown",
      "metadata": {
        "id": "ZmThqeXEVuh4"
      },
      "source": [
        "Above, we have a tuple of two elements (i.e., a **pair**).\n",
        "\n",
        "We can use an *unfolding* operation to access the elements of a tuple:"
      ]
    },
    {
      "cell_type": "code",
      "execution_count": null,
      "metadata": {
        "id": "wcYPF7eMVrLD"
      },
      "outputs": [],
      "source": [
        "b, c = a\n",
        "print(b)\n",
        "print(c)"
      ]
    },
    {
      "cell_type": "markdown",
      "metadata": {
        "id": "ojUj_yhaWOkc"
      },
      "source": [
        "We can use the *indexing* operator to access a single element of a tuple (with indices starting from 0, and not from 1):"
      ]
    },
    {
      "cell_type": "code",
      "execution_count": null,
      "metadata": {
        "id": "u6E6LGVoWTSz"
      },
      "outputs": [],
      "source": [
        "print(a[0])\n",
        "print(a[1])"
      ]
    },
    {
      "cell_type": "markdown",
      "metadata": {
        "id": "Wv4M52eeXEqu"
      },
      "source": [
        "A tuple is usually defined using round parenthesis and can have arbitrary length.\n",
        "\n",
        "\n"
      ]
    },
    {
      "cell_type": "code",
      "execution_count": null,
      "metadata": {
        "id": "W6miPQDTXRWI"
      },
      "outputs": [],
      "source": [
        "tupleexample = (\"word\", 3, 2.0, 1, 0, -1)\n",
        "print(\"tuple:\", tupleexample, \"length:\", len(tupleexample))\n",
        "# print(\"types:\", type(tupleexample), type(tupleexample[0]), type(tupleexample[1]), type(tupleexample[2]))"
      ]
    },
    {
      "cell_type": "markdown",
      "metadata": {
        "id": "bvg4AMXJWfkr"
      },
      "source": [
        "Note however that tuple are **reading-only** data types, that is, we cannot modify an element of a tuple:"
      ]
    },
    {
      "cell_type": "code",
      "execution_count": null,
      "metadata": {
        "id": "Cg35rEEPWe9-"
      },
      "outputs": [],
      "source": [
        "a[1] = 4"
      ]
    },
    {
      "cell_type": "markdown",
      "metadata": {
        "id": "ihzovuXLbfM0"
      },
      "source": [
        "If you need to store a **mutable** ordered sequence of data, you can use a `list` instead of a `tuple`, as we show in the next subsection."
      ]
    },
    {
      "cell_type": "markdown",
      "metadata": {
        "id": "r7Dcpw_cb8dD"
      },
      "source": [
        "### 1.2.2 List\n",
        "A list is mutable ordered sequence of data. It can be used in place of tuples, but with the possibility of adding new elements to the list or to change the value of a single element."
      ]
    },
    {
      "cell_type": "code",
      "execution_count": null,
      "metadata": {
        "id": "pvvL4byLb7qk"
      },
      "outputs": [],
      "source": [
        "Ls = [1, 2, 2.5, 2.75, 3, \"Go!\"]"
      ]
    },
    {
      "cell_type": "code",
      "execution_count": null,
      "metadata": {
        "id": "lDYI_ZU8aP7t"
      },
      "outputs": [],
      "source": [
        "print(Ls)"
      ]
    },
    {
      "cell_type": "code",
      "execution_count": null,
      "metadata": {
        "id": "aVhz8LXzcnyZ"
      },
      "outputs": [],
      "source": [
        "print(Ls[2], Ls[-1])\n",
        "# the negative indices start from the last position"
      ]
    },
    {
      "cell_type": "code",
      "execution_count": null,
      "metadata": {
        "id": "qEH9IPV7crcZ"
      },
      "outputs": [],
      "source": [
        "Ls[4] = 2.99\n",
        "print(Ls)"
      ]
    },
    {
      "cell_type": "code",
      "execution_count": null,
      "metadata": {
        "id": "I00c5gv6c5cp"
      },
      "outputs": [],
      "source": [
        "Ls.append('!!!')"
      ]
    },
    {
      "cell_type": "code",
      "execution_count": null,
      "metadata": {
        "id": "tAglM-fWc-k4"
      },
      "outputs": [],
      "source": [
        "Ls"
      ]
    },
    {
      "cell_type": "code",
      "execution_count": null,
      "metadata": {
        "id": "6P1OZp88c-6u"
      },
      "outputs": [],
      "source": [
        "# To get the length of a list:\n",
        "print(len(Ls))"
      ]
    },
    {
      "cell_type": "markdown",
      "metadata": {
        "id": "bQhHh7WtfOOb"
      },
      "source": [
        "We can sum up two lists:"
      ]
    },
    {
      "cell_type": "code",
      "execution_count": null,
      "metadata": {
        "id": "YvBpUsZhfVLY"
      },
      "outputs": [],
      "source": [
        "As = [1,2,3]\n",
        "Bs = [4,5,6]\n",
        "Cs = As + Bs\n",
        "print(Cs)"
      ]
    },
    {
      "cell_type": "code",
      "execution_count": null,
      "metadata": {
        "id": "J1_juqlJfLnK"
      },
      "outputs": [],
      "source": [
        "Ds = As + As\n",
        "print(Ds)"
      ]
    },
    {
      "cell_type": "markdown",
      "metadata": {
        "id": "HsRBAodmBN40"
      },
      "source": [
        "Note that the `addition` operator is implemented as a function that returns a new list containing in order, first, every element of the first list and, later, all those of the second list."
      ]
    },
    {
      "cell_type": "markdown",
      "metadata": {
        "id": "EWFjHfGWfo4H"
      },
      "source": [
        "Using the `remove` function, we can remove from a list only the first element."
      ]
    },
    {
      "cell_type": "code",
      "execution_count": null,
      "metadata": {
        "id": "seN0FkZYfkRz"
      },
      "outputs": [],
      "source": [
        "Ds.remove(1)\n",
        "print(Ds)"
      ]
    },
    {
      "cell_type": "markdown",
      "metadata": {
        "id": "htVR2JqiBntZ"
      },
      "source": [
        "Since *lists* are ordered sequence of data, we can **indexing** every single element, and we can **slicing** a subset of the elements using the slicing operator, which has the following syntax:\n",
        "\n",
        "```\n",
        "Ls[startIndex:endIndex]\n",
        "```\n",
        "\n",
        "and is used as follows:"
      ]
    },
    {
      "cell_type": "code",
      "execution_count": null,
      "metadata": {
        "id": "xI1HLwmBf81s"
      },
      "outputs": [],
      "source": [
        "Ls = [9,8,7,6,5,4,3,2,1]\n",
        "print(Ls[4:7])"
      ]
    },
    {
      "cell_type": "markdown",
      "metadata": {
        "id": "o9-LI-efCK9G"
      },
      "source": [
        "The command has printed the elements from position 4 (indexing start from position 0) to position 6 (just before 7).\n",
        "The slicing operator has default values equal to `startIndex=0` and `endIndex=<listLength> - 1`."
      ]
    },
    {
      "cell_type": "code",
      "execution_count": null,
      "metadata": {
        "id": "WBN6bD_qCJIQ"
      },
      "outputs": [],
      "source": [
        "print(Ls[:4])  # startIndex is omitted hence is equal to 0\n",
        "print(Ls[4:])  # endIndex is omitted hence is equal to len(Ls)-1\n",
        "print(Ls[:])"
      ]
    },
    {
      "cell_type": "markdown",
      "metadata": {
        "id": "ZMolp1cFDLc9"
      },
      "source": [
        "Lists are ordered sequence of data with no restrictions on the type that each single element can take. The type of each element is determined at runtime by the Python interpreter."
      ]
    },
    {
      "cell_type": "code",
      "execution_count": null,
      "metadata": {
        "id": "9v3t_Q06C_OU"
      },
      "outputs": [],
      "source": [
        "Ls = [1, 2.0, [1,\"tre\"]]"
      ]
    },
    {
      "cell_type": "markdown",
      "metadata": {
        "id": "Mkg7s6Y0DbeE"
      },
      "source": [
        "In this case, we have a list of three elements: an integer, a float, and a list of two elements (an integer and a string)."
      ]
    },
    {
      "cell_type": "markdown",
      "metadata": {
        "id": "AChpRRBVDo9w"
      },
      "source": [
        "By using lists, we can represent a matrix $A\\in \\mathbb{R}^{m\\times n}$ as a list of lists of numbers."
      ]
    },
    {
      "cell_type": "code",
      "execution_count": null,
      "metadata": {
        "id": "NxK9dQzhDawG"
      },
      "outputs": [],
      "source": [
        "I = [[1,0,0,0], [0,1,0,0],[0,0,1,0],[0,0,0,1]]   # Identity matrix"
      ]
    },
    {
      "cell_type": "code",
      "execution_count": null,
      "metadata": {
        "id": "CbWI_5qiD-La"
      },
      "outputs": [],
      "source": [
        "print(I)"
      ]
    },
    {
      "cell_type": "code",
      "execution_count": null,
      "metadata": {
        "id": "g-EwIK_dD_Ca"
      },
      "outputs": [],
      "source": [
        "type(I)"
      ]
    },
    {
      "cell_type": "code",
      "execution_count": null,
      "metadata": {
        "id": "w_5vbzArEGfv"
      },
      "outputs": [],
      "source": [
        "type(I[3])"
      ]
    },
    {
      "cell_type": "markdown",
      "metadata": {
        "id": "h03PY3GiEJbX"
      },
      "source": [
        "We will see later during this course (in another notebook) a different method based on the [numpy](https://numpy.org/) library for storing vectors and matrices."
      ]
    },
    {
      "cell_type": "markdown",
      "metadata": {
        "id": "C-gsZcjlE9dy"
      },
      "source": [
        "### 1.2.3 Dictionaries\n",
        "The `dictionary` data type is one of the features which has contributed the most to the success of Python.\n",
        "\n",
        "Dictionaries are unordered sequences of pairs of data, where the first element of each pair is called the `key` and the second element is called the `value`. Conceptually, dictionaries are the equivalent of text dictionary: we use the key (a word) to quickly look for the corresponding value (the formal definition of the key/word).\n",
        "\n",
        "Intuitively, you can think of a dictionary as it were a *kind-of-list* indexed by any read-only data type (e.g., `int, float, tuple, string`), and not only by consecutive integeres as for array."
      ]
    },
    {
      "cell_type": "code",
      "execution_count": null,
      "metadata": {
        "id": "Mw-hO1ZWEHvg"
      },
      "outputs": [],
      "source": [
        "Ds = dict()  # Create en empty dictionary, you can also use Ds = {}\n",
        "print(Ds, type(Ds))"
      ]
    },
    {
      "cell_type": "code",
      "execution_count": null,
      "metadata": {
        "id": "de_pDTWcGHDF"
      },
      "outputs": [],
      "source": [
        "Ds[\"one\"] = \"uno\"\n",
        "Ds[\"two\"] = \"due\"\n",
        "print(Ds)"
      ]
    },
    {
      "cell_type": "code",
      "execution_count": null,
      "metadata": {
        "id": "egYYci4PGZeT"
      },
      "outputs": [],
      "source": [
        "Ds[\"numbers\"] = \"numeri\"\n",
        "print(Ds)"
      ]
    },
    {
      "cell_type": "markdown",
      "metadata": {
        "id": "n2YZhiRKG1gX"
      },
      "source": [
        "Notice that we have something very similar to a list of pairs."
      ]
    },
    {
      "cell_type": "code",
      "execution_count": null,
      "metadata": {
        "id": "4vIVjjkIGh-y"
      },
      "outputs": [],
      "source": [
        "print(Ds[\"numbers\"])"
      ]
    },
    {
      "cell_type": "code",
      "execution_count": null,
      "metadata": {
        "id": "Cr9MD0DxGna5"
      },
      "outputs": [],
      "source": [
        "print(len(Ds))  # Number of pairs (key, value) contained into the dictionary"
      ]
    },
    {
      "cell_type": "markdown",
      "metadata": {
        "id": "COq0VMvyHMPu"
      },
      "source": [
        "Sometime it might be useful to build a dictionary starting from two different lists (but which have the same length). The first is the list of *keys*, the second is the list of *value*. Look at the following snippets:\n"
      ]
    },
    {
      "cell_type": "code",
      "execution_count": null,
      "metadata": {
        "id": "NAxmL0fzGtRU"
      },
      "outputs": [],
      "source": [
        "As = [\"a\", \"b\", \"c\", \"d\"]\n",
        "Bs = [1, 2, 3, 4]\n",
        "Ds = dict(zip(As, Bs))\n",
        "print(Ds)"
      ]
    },
    {
      "cell_type": "markdown",
      "metadata": {
        "id": "CEUaf2zNHiKt"
      },
      "source": [
        "In this example, we have used the builtin function [zip](https://docs.python.org/3/library/functions.html#zip). If it is unclear how the function **zip** works, try to understand it by running the following two lines"
      ]
    },
    {
      "cell_type": "code",
      "execution_count": null,
      "metadata": {
        "id": "1fbiWcX8HI-8"
      },
      "outputs": [],
      "source": [
        "Ps = list(zip(As, Bs))\n",
        "print(Ps)"
      ]
    },
    {
      "cell_type": "markdown",
      "metadata": {
        "id": "CgCRQwS7Im73"
      },
      "source": [
        "With the function zip, we have constructed a list of pairs, by *zipping* the elements of the two lists in consecutive pairs."
      ]
    },
    {
      "cell_type": "markdown",
      "metadata": {
        "id": "R4rsmaAiKCzh"
      },
      "source": [
        "## 1.3 Flow controls\n",
        "In the previous cells, we have used only small blocks of code with the purpose of showing basic data structures. When writing a simple function or a larger program it is necessary to write statements that control the flow execution. We review here the syntax for the flow control execution available in Python."
      ]
    },
    {
      "cell_type": "markdown",
      "metadata": {
        "id": "Cud_ZossKrmp"
      },
      "source": [
        "### 1.3.1 Conditionals\n",
        "The first flow control statement is the `if ... then ... else` construct, which has the following syntax>\n",
        "\n",
        "```\n",
        "if <logical condition>:\n",
        "  # Either the first block of code, e.g.:\n",
        "  print('True')\n",
        "else:\n",
        "  # Or execute the second block of code, e.g.:\n",
        "  print('False')\n",
        "```\n",
        "The logical condition can be any logical operation (e.g., $a > 3$) or a function returning a logical value. The `else` condition is optional and it can be omitted.\n",
        "\n",
        "For instance, if we have to check whether a number is even, we can write:"
      ]
    },
    {
      "cell_type": "code",
      "execution_count": null,
      "metadata": {
        "id": "DP6iAeYFPgwH"
      },
      "outputs": [],
      "source": [
        "a = 14\n",
        "if a % 2 == 0:\n",
        "    print(\"Number a={} is EVEN\".format(a))\n",
        "else:\n",
        "    print(\"Number a={} is ODD\".format(a))"
      ]
    },
    {
      "cell_type": "code",
      "source": [
        "condition = 13 % 2 == 0\n",
        "print(condition)\n",
        "print(type(condition))"
      ],
      "metadata": {
        "id": "szEtz7_xHa4n"
      },
      "execution_count": null,
      "outputs": []
    },
    {
      "cell_type": "markdown",
      "metadata": {
        "id": "RdSV63nVQHgs"
      },
      "source": [
        "If we need to control several alternatives, we can use one (or more) `elif` conditions."
      ]
    },
    {
      "cell_type": "code",
      "execution_count": null,
      "metadata": {
        "id": "MeGMshF_QQtF"
      },
      "outputs": [],
      "source": [
        "if a > 0:\n",
        "    print(\"positive\")\n",
        "elif a < 0:\n",
        "    print(\"negative\")\n",
        "else:\n",
        "    print(\"zero\")"
      ]
    },
    {
      "cell_type": "markdown",
      "metadata": {
        "id": "6qZhPwb3KuQZ"
      },
      "source": [
        "### 1.3.2 For Loops\n",
        "Given a sequence of elements, such as tuples, lists, and dictionaries, we often need to iterate over an element at the time.\n",
        "\n",
        "The Python syntax for looping trough the elements of a list is\n",
        "\n",
        "```\n",
        "for <variable name> in <sequence>:\n",
        "  # Block of code, e.g.\n",
        "  print(\"single loop\")\n",
        "```\n",
        "\n",
        "Consider the task of printing the elements of a given list, an element at the time."
      ]
    },
    {
      "cell_type": "code",
      "execution_count": null,
      "metadata": {
        "id": "fSw0Wij1Rfh-"
      },
      "outputs": [],
      "source": [
        "Ls = [1, 2.0, \"tre\", (1,2), [\"a,b\"], {\"x\": 1, \"y\":1}]\n",
        "for e in Ls:\n",
        "    print(type(e), \"  \", e)"
      ]
    },
    {
      "cell_type": "markdown",
      "metadata": {
        "id": "eW-S4laVQHdR"
      },
      "source": [
        "We can loop over any data which represent a sequence, as shown next."
      ]
    },
    {
      "cell_type": "code",
      "execution_count": null,
      "metadata": {
        "id": "-QfjX4hXS_b9"
      },
      "outputs": [],
      "source": [
        "Ts = (\"a\",\"b\",\"c\")\n",
        "for t in Ts:\n",
        "    print(t)"
      ]
    },
    {
      "cell_type": "code",
      "execution_count": null,
      "metadata": {
        "id": "MGMDDze7TGLC"
      },
      "outputs": [],
      "source": [
        "virus = \"COVID-19\"\n",
        "for c in virus:\n",
        "    print(c)"
      ]
    },
    {
      "cell_type": "code",
      "execution_count": null,
      "metadata": {
        "id": "Be6UghxuTMiC"
      },
      "outputs": [],
      "source": [
        "print(Ds)\n",
        "for key in Ds:\n",
        "    print(\"key = {}, value = {}\".format(key, Ds[key]))"
      ]
    },
    {
      "cell_type": "markdown",
      "metadata": {
        "id": "yAgxgJwNThxN"
      },
      "source": [
        "There are a few cases where it can be useful to know the index of a given element within an ordered sequence. In this case, we can use the [`enumerate`](https://docs.python.org/3/library/functions.html#enumerate) builtin function as follows."
      ]
    },
    {
      "cell_type": "code",
      "execution_count": null,
      "metadata": {
        "id": "xQ-l8FNOUEUl"
      },
      "outputs": [],
      "source": [
        "for i, e in enumerate(Ls):\n",
        "    print(\"index = {}, element = {}\".format(i, e))"
      ]
    },
    {
      "cell_type": "markdown",
      "metadata": {
        "id": "mzDTfBfcUXHZ"
      },
      "source": [
        "You can see that a list is like a special kind of dictionary where the keys are a sequence of increasing integers starting from zero."
      ]
    },
    {
      "cell_type": "markdown",
      "metadata": {
        "id": "dw2GtTwWMleq"
      },
      "source": [
        "### 1.3.3 While Loops\n",
        "The syntax for the `while` loop is pretty standard, and once you get used to the Python syntax style, it should be also intuitive:\n",
        "\n",
        "```\n",
        "while <conditionIsTrue>:\n",
        "  <block of code>\n",
        "```\n",
        "\n",
        "Which can be used as follows."
      ]
    },
    {
      "cell_type": "code",
      "execution_count": null,
      "metadata": {
        "id": "K3EKLGndM_vR"
      },
      "outputs": [],
      "source": [
        "counter = 3\n",
        "while counter <= 30:\n",
        "    print(counter)\n",
        "    counter += 3"
      ]
    },
    {
      "cell_type": "markdown",
      "metadata": {
        "id": "RAGjP8kNNPyC"
      },
      "source": [
        "As usual with Python:\n",
        "> **PAY ATTENTION TO THE INDENTATION SPACE AT THE BEGINNING OF EACH LINE!**"
      ]
    },
    {
      "cell_type": "markdown",
      "metadata": {
        "id": "5LEu-fpSKwVx"
      },
      "source": [
        "### 1.3.4 Exceptions\n",
        "An [exception](https://docs.python.org/3/tutorial/errors.html) breaks the normal execution flow of a program in exceptional cases, such as, when encountering unplanned errors.\n",
        "\n",
        "By running this notebook by your own, you have likely already encountered exceptions, as a way of reporting errors from the Python interpreter."
      ]
    },
    {
      "cell_type": "code",
      "execution_count": null,
      "metadata": {
        "id": "EH3h14zzVXOE"
      },
      "outputs": [],
      "source": [
        "p = (1,2)\n",
        "p[0] = \"a\""
      ]
    },
    {
      "cell_type": "markdown",
      "metadata": {
        "id": "mQre9PbHVlXh"
      },
      "source": [
        "In this case, the exception was **raised** by an internal function of the Python interpreter.\n",
        "\n",
        "In order to control the execution flow of a program, the exceptions can be **caught** using the following syntax:"
      ]
    },
    {
      "cell_type": "code",
      "execution_count": null,
      "metadata": {
        "id": "cBXqvwQZKJEx"
      },
      "outputs": [],
      "source": [
        "try:\n",
        "    # Block of code that might be raise an exception\n",
        "    p = (1,2)\n",
        "    p[0] = \"a\"\n",
        "except Exception as e:\n",
        "    # Block of code executed in case of an exception\n",
        "    print(e)\n",
        "    print(type(e))"
      ]
    },
    {
      "cell_type": "markdown",
      "metadata": {
        "id": "jwdREYEfYG-v"
      },
      "source": [
        "There are several different types of exceptions in Python, and you should familiarize with those types, in order to identify the errors in yours programs. A complete list of exceptions is available on the official documentation: [Builtin Exceptions](https://docs.python.org/3/library/exceptions.html#bltin-exceptions)."
      ]
    },
    {
      "cell_type": "markdown",
      "metadata": {
        "id": "MNyFM_fjZa-5"
      },
      "source": [
        "When you are writing your own functions (see next section), for example for parsing a text file, you might need to raise an exception whenever an input file does not meet the given specification.\n",
        "\n",
        "To raise an exception, the Python syntax is as follow:\n",
        "\n",
        "```\n",
        "  raise Exception(\"<YOUR ERROR MESSAGE>\")\n",
        "```\n",
        "\n",
        "For instance, if you would like to handle only positive numbers, you can write the following code:"
      ]
    },
    {
      "cell_type": "code",
      "execution_count": null,
      "metadata": {
        "id": "grfyF-D0aBRX"
      },
      "outputs": [],
      "source": [
        "# NOTE: The only purpose of this snippet is to show how to raise an exception\n",
        "a = -1\n",
        "if a < 0:\n",
        "    raise Exception(\"I deal only with positive numbers!\")"
      ]
    },
    {
      "cell_type": "markdown",
      "metadata": {
        "id": "UvhL0Fi7aVMw"
      },
      "source": [
        "Most of the errors encountered when trying to execute a Python program can be understood in terms of `exceptions`."
      ]
    },
    {
      "cell_type": "markdown",
      "metadata": {
        "id": "QRrwB5RoKJ8h"
      },
      "source": [
        "## 1.4 Functions\n",
        "In all the previous paragraphs, we have illustrated the basic data type and the fundamentals statements for controlling the execution flow of a program.\n",
        "\n",
        "In this section, we review how we can organize our code in small blocks, each block corresponding to a specific function or procedure.\n"
      ]
    },
    {
      "cell_type": "markdown",
      "metadata": {
        "id": "bXAY8ahyWmLH"
      },
      "source": [
        "### 1.4.1 Pure Functions\n",
        "You have to think of computer *pure* functions as they were mathematical functions, where the output depends only on the input (we have zero side effects).\n",
        "\n",
        "Consider the function of computing the hypotenuse of a right triangle: $c^2 = a^2 + b^2$. We can write a small **function** that compute the square of the hypotenuse length $c$, given the two values of $a$ and $b$:"
      ]
    },
    {
      "cell_type": "code",
      "execution_count": null,
      "metadata": {
        "id": "m2mCGmVpb-XD"
      },
      "outputs": [],
      "source": [
        "def SquareHypotenuse(a, b):\n",
        "    c = a**2 + b**2\n",
        "    return c"
      ]
    },
    {
      "cell_type": "markdown",
      "metadata": {
        "id": "ekdIafHDcD9C"
      },
      "source": [
        "In the previous example, we have used the following syntax:\n",
        "\n",
        "```\n",
        "def <FunctionName>(<list of formal parameters, comma separated>):\n",
        "  <block of codes>\n",
        "```\n",
        "\n",
        "There are a few points that must be marked:\n",
        "\n",
        "1. The keyword `def` is reserved and is used to define a function.\n",
        "2. **FunctionName** is any name you want to use to define your function.\n",
        "3. The round parenthesis and the colon are mandatory.\n",
        "4. The **list of formal parameters** is up to you, and it can be of any (reasonable) size.\n",
        "5. **MOST IMPORTANTLY:** the indentations after the `def` keyword are part of the **semantic** of the construct, and denote the scope of the function.\n",
        "6. **Function DEFINITION** is different from **Function INVOCATION**. With the previous block, we have defined the function **Hypotenuse**, but we have not yet passed any actual parameters to the function, which could trigger the computation of the *c* value.\n",
        "\n",
        "If we want to compute the square value of the hypotenuse of a triangle with base equal to 4 and height equal to\n",
        "3, you have to write:"
      ]
    },
    {
      "cell_type": "code",
      "execution_count": null,
      "metadata": {
        "id": "kqBMjyJqcDJf"
      },
      "outputs": [],
      "source": [
        "b, h = 4, 3  # We are defining and unfolding the pair (4, 5) on the fly\n",
        "hyp = SquareHypotenuse(b, h)\n",
        "print(hyp)"
      ]
    },
    {
      "cell_type": "markdown",
      "metadata": {
        "id": "Ov3N9lxEe0iN"
      },
      "source": [
        "Indeed, a large number of mathematical functions are already implemented in Python. For instance, all the basic mathematical functions are implemented in the [math](https://docs.python.org/3/library/math.html?highlight=math#module-math) library.\n",
        "\n",
        "If you want to import a single function, for example the square root function [`sqrt()`](https://docs.python.org/3/library/math.html?highlight=math#math.sqrt), you can write:"
      ]
    },
    {
      "cell_type": "code",
      "execution_count": null,
      "metadata": {
        "id": "aGie_A62fgBW"
      },
      "outputs": [],
      "source": [
        "from math import sqrt\n",
        "print(sqrt(2))\n",
        "# or we could use the numpy square root since we have already imported numpy\n",
        "print(np.sqrt(2))"
      ]
    },
    {
      "cell_type": "markdown",
      "metadata": {
        "id": "b0h1aDcyf2BJ"
      },
      "source": [
        "At this point, it should be easy to write a function that compute the actual value of the hypotenuse (and not its square value), by using a function *composition*."
      ]
    },
    {
      "cell_type": "code",
      "execution_count": null,
      "metadata": {
        "id": "jR4i8CgFf-bn"
      },
      "outputs": [],
      "source": [
        "def Hypotenuse(a, b):\n",
        "    return sqrt(SquareHypotenuse(a,b))"
      ]
    },
    {
      "cell_type": "code",
      "execution_count": null,
      "metadata": {
        "id": "TiNkB4c0fNao"
      },
      "outputs": [],
      "source": [
        "print(Hypotenuse(4,3))"
      ]
    },
    {
      "cell_type": "markdown",
      "metadata": {
        "id": "oTNxQ_uAUjNU"
      },
      "source": [
        "Indeed, function can be chained several times."
      ]
    },
    {
      "cell_type": "code",
      "execution_count": null,
      "metadata": {
        "id": "eu-whR6cUiT_"
      },
      "outputs": [],
      "source": [
        "c = Hypotenuse(Hypotenuse(3,4), 5+2*SquareHypotenuse(2, sqrt(4)))\n",
        "print(c)"
      ]
    },
    {
      "cell_type": "markdown",
      "metadata": {
        "id": "GKSpMJgIaLaR"
      },
      "source": [
        "In a function definition, we can also set a default value for any formal parameter, using the following syntax."
      ]
    },
    {
      "cell_type": "code",
      "execution_count": null,
      "metadata": {
        "id": "dloEHXuUaTNh"
      },
      "outputs": [],
      "source": [
        "from math import pow\n",
        "def Power(x, n=3):  # The value 3 is the default for formal parameter \"n\"\n",
        "    return x**n"
      ]
    },
    {
      "cell_type": "code",
      "execution_count": null,
      "metadata": {
        "id": "-FWxJ-EDaKfB"
      },
      "outputs": [],
      "source": [
        "print(Power(2,5))\n",
        "print(pow(2,5))"
      ]
    },
    {
      "cell_type": "code",
      "execution_count": null,
      "metadata": {
        "id": "zVOiZLkfax2b"
      },
      "outputs": [],
      "source": [
        "print(Power(3))  # Here, the interpreter uses the default value for the second parameter"
      ]
    },
    {
      "cell_type": "markdown",
      "metadata": {
        "id": "0XyU7whWmAGA"
      },
      "source": [
        "**EXERCISE 1:** Write a function that given two values `c` and `t`, compute the following function\n",
        "\n",
        "$$f(c,t) = 8c + 11t$$"
      ]
    },
    {
      "cell_type": "code",
      "source": [
        "# solution"
      ],
      "metadata": {
        "id": "QLiuaVmr99wa"
      },
      "execution_count": null,
      "outputs": []
    },
    {
      "cell_type": "markdown",
      "metadata": {
        "id": "6snvAyVFmAGA"
      },
      "source": [
        "**EXERCISE 2:** Write a function that given two values `c` and `t`, check of the following inequalities are satisfied:\n",
        "\n",
        "$$2c + 2t \\leq 24$$\n",
        "$$c + 2t \\leq 18$$"
      ]
    },
    {
      "cell_type": "code",
      "source": [
        "# solution"
      ],
      "metadata": {
        "id": "QgXGyw4m-Bc6"
      },
      "execution_count": null,
      "outputs": []
    },
    {
      "cell_type": "markdown",
      "metadata": {
        "id": "iKMxxqlWmAGA"
      },
      "source": [
        "**EXERCISE 3:** Write a function that enumerate all possibile combination of positive integer values for $c$ and $t$, up to two given limits $C$ and $T$. Use a nested loop for and the function `range()`."
      ]
    },
    {
      "cell_type": "code",
      "source": [
        "# solution"
      ],
      "metadata": {
        "id": "mJVvFA6e-DTq"
      },
      "execution_count": null,
      "outputs": []
    },
    {
      "cell_type": "markdown",
      "metadata": {
        "id": "qX2RqISIK4Db"
      },
      "source": [
        "### 1.4.2 Procedures\n",
        "Procedures are like functions, but they do not explicitly return any value."
      ]
    },
    {
      "cell_type": "code",
      "execution_count": null,
      "metadata": {
        "id": "-MUxmXhSXmrj"
      },
      "outputs": [],
      "source": [
        "def Print(a, b, c=77):\n",
        "    print(\"a = {}, b = {}, c = {}\".format(a, b, c))"
      ]
    },
    {
      "cell_type": "code",
      "execution_count": null,
      "metadata": {
        "id": "rdFZdatQXwVB"
      },
      "outputs": [],
      "source": [
        "Print(2,3)"
      ]
    },
    {
      "cell_type": "markdown",
      "metadata": {
        "id": "X63fIx2SX61l"
      },
      "source": [
        "A typical error is to use a procedure as it were a pure function. The syntax is correct, but it is a misuse of the procedure."
      ]
    },
    {
      "cell_type": "code",
      "execution_count": null,
      "metadata": {
        "id": "i2JrACXXYP4N"
      },
      "outputs": [],
      "source": [
        "d = Print(a, b)\n",
        "print(d)"
      ]
    },
    {
      "cell_type": "markdown",
      "metadata": {
        "id": "bsZMwh1PbnaX"
      },
      "source": [
        "Notice that there is not `return` keyword in the procedure `Print(a, b, c)`. However, in this case, it is like there was a `return None` statement at the end of the procedure definition. For this reason, procedures are also called *void functions*."
      ]
    },
    {
      "cell_type": "code",
      "execution_count": null,
      "metadata": {
        "id": "rzTq3fiSbmpO"
      },
      "outputs": [],
      "source": [
        "def Print(a, b, c=77):\n",
        "    print(\"a = {}, b = {}, c = {}\".format(a, b, c))\n",
        "    return None"
      ]
    },
    {
      "cell_type": "code",
      "execution_count": null,
      "metadata": {
        "id": "wsNigD95br2B"
      },
      "outputs": [],
      "source": [
        "print(Print(1,1,2))"
      ]
    },
    {
      "cell_type": "markdown",
      "metadata": {
        "id": "F5VNwahzK-Go"
      },
      "source": [
        "### 1.4.3 Lambda Functions\n",
        "In some cases, it is useful to use anonymous functions, called `lambda functions`. They are mostly used when we need to pass a function as an actual parameter of a formal parameter (see next section).\n",
        "\n",
        "We can use lambda functions also for one-liner definition of functions.\n"
      ]
    },
    {
      "cell_type": "code",
      "execution_count": null,
      "metadata": {
        "id": "bBIuKYtkKOP-"
      },
      "outputs": [],
      "source": [
        "F = lambda x: x*x"
      ]
    },
    {
      "cell_type": "code",
      "execution_count": null,
      "metadata": {
        "id": "WxQ3vZJleAOQ"
      },
      "outputs": [],
      "source": [
        "print(F(2))"
      ]
    },
    {
      "cell_type": "markdown",
      "metadata": {
        "id": "QmfRfWileIQk"
      },
      "source": [
        "### 1.4.4 Map and Filter\n",
        "Among the Python builtin functions, we like to stress the importance of [map](https://docs.python.org/3/library/functions.html#map) and [filter](https://docs.python.org/3/library/functions.html#filter).\n",
        "\n",
        "They are high-order functions, that is, functions that takes as input other functions.\n",
        "\n",
        "The `map` function takes as input a function *f* and any data type that is a sequence (an **iterable** to be precise), and it applies the function *f* to every element of the sequence.\n",
        "\n",
        "The `filter` function takes as input a predicate *p* and any data type that is a sequence, and it returns a new sequence containing only the elements for which the predicate *p* returns `True`.\n",
        "\n",
        "For example:"
      ]
    },
    {
      "cell_type": "code",
      "execution_count": null,
      "metadata": {
        "id": "Xun0eGJxfemq"
      },
      "outputs": [],
      "source": [
        "Ls = [1, 2, 3, 4, 5]   # String, list, tuple, dictionaries are iterable\n",
        "for e in map(lambda x: x*x, Ls):\n",
        "    print(e)"
      ]
    },
    {
      "cell_type": "code",
      "source": [
        "new_Ls = list(map(lambda x: x*x, Ls))\n",
        "print(new_Ls)"
      ],
      "metadata": {
        "id": "izSZ4aGCJe4e"
      },
      "execution_count": null,
      "outputs": []
    },
    {
      "cell_type": "code",
      "execution_count": null,
      "metadata": {
        "id": "NQKJtKFgiFyX"
      },
      "outputs": [],
      "source": [
        "Ls = [1, 2, 3, 4, 5]   # String, list, tuple, dictionaries are iterable\n",
        "for e in filter(lambda x: x%2 == 0, Ls):\n",
        "    print(e)"
      ]
    },
    {
      "cell_type": "code",
      "source": [
        "new_Ls = list(filter(lambda x: x%2 == 0, Ls))\n",
        "print(new_Ls)"
      ],
      "metadata": {
        "id": "z6eq5Q6IJl5V"
      },
      "execution_count": null,
      "outputs": []
    },
    {
      "cell_type": "markdown",
      "source": [
        "**EXERCISE 4:** given a list of temperatures in Celsius, use the map function with a lambda to convert them to Fahrenheit. Recall that\n",
        "\n",
        "Fahrenheit = (9/5)*Celsius + 32"
      ],
      "metadata": {
        "id": "WKdj5-zaEfvT"
      }
    },
    {
      "cell_type": "code",
      "source": [
        "celsius_temps = [0, 20, 30, 40, 100]\n",
        "fahrenheit_temps = []\n",
        "print(fahrenheit_temps)"
      ],
      "metadata": {
        "id": "Vb8iM0ihEkDi"
      },
      "execution_count": null,
      "outputs": []
    },
    {
      "cell_type": "markdown",
      "source": [
        "**EXERCISE 5:** given a list of words, use the filter function to create a new list containing only words with more than three letters."
      ],
      "metadata": {
        "id": "ZkUxuVG0EkWz"
      }
    },
    {
      "cell_type": "code",
      "source": [
        "words = [\"cat\", \"elephant\", \"dog\", \"giraffe\", \"bat\"]\n",
        "long_words = []\n",
        "print(long_words)"
      ],
      "metadata": {
        "id": "586p6d1UEn8A"
      },
      "execution_count": null,
      "outputs": []
    },
    {
      "cell_type": "markdown",
      "source": [
        "## 1.5 Data"
      ],
      "metadata": {
        "id": "addzcmMV5vUX"
      }
    },
    {
      "cell_type": "markdown",
      "source": [
        "We will now work with a dataset to explore basic data analysis using Python. The dataset we are using contains information about housing in California, such as median income, house values, and other features. We will load the data using the `pandas` library, which provides powerful tools for data manipulation and analysis. Let's begin by loading the data into a DataFrame."
      ],
      "metadata": {
        "id": "ktyLAADoDcis"
      }
    },
    {
      "cell_type": "code",
      "source": [
        "import pandas as pd\n",
        "\n",
        "df = pd.read_csv(\"sample_data/california_housing_test.csv\")"
      ],
      "metadata": {
        "id": "iuqEkLi85-Aj"
      },
      "execution_count": null,
      "outputs": []
    },
    {
      "cell_type": "markdown",
      "source": [
        "Now that we've loaded the dataset, let's take a quick look at its structure. The `df.info()` function provides an overview of the DataFrame, including the number of entries, column names, data types, and any missing values. This is useful for understanding the dataset's general structure and ensuring it’s ready for analysis."
      ],
      "metadata": {
        "id": "MV9j-hpsD4YL"
      }
    },
    {
      "cell_type": "code",
      "source": [
        "df.info()"
      ],
      "metadata": {
        "collapsed": true,
        "id": "mgRJ6NFI7G8y"
      },
      "execution_count": null,
      "outputs": []
    },
    {
      "cell_type": "markdown",
      "source": [
        "To get a better sense of the data, let's view the first few rows of the dataset. The `df.head()` function displays the top 5 entries, allowing us to quickly examine the values and the structure of the columns. This helps to confirm that the data has been loaded correctly and gives us an initial look at its contents."
      ],
      "metadata": {
        "id": "uZaTEwt8EDsj"
      }
    },
    {
      "cell_type": "code",
      "source": [
        "df.head()"
      ],
      "metadata": {
        "collapsed": true,
        "id": "ku7xRgxf7RUi"
      },
      "execution_count": null,
      "outputs": []
    },
    {
      "cell_type": "markdown",
      "source": [
        "In this step, we'll access specific values from the dataset using both `iloc` and `loc`. The `iloc` function is used for indexing by position, while `loc` is used for accessing data by label. We'll print the value at the 3rd row, 0th column and compare it with the value in the 'longitude' column for the same row."
      ],
      "metadata": {
        "id": "p6jjf_QPFH5h"
      }
    },
    {
      "cell_type": "code",
      "source": [
        "print(df.iloc[3, 0], df.iloc[3, 1])\n",
        "print(df.loc[3, 'longitude'], df.loc[3, 'latitude'])"
      ],
      "metadata": {
        "id": "bqhlry-h9KqQ"
      },
      "execution_count": null,
      "outputs": []
    },
    {
      "cell_type": "markdown",
      "source": [
        "Next, we will sort the dataset by the `median_house_value` in descending order using the `sort_values` function. This allows us to view the highest house values at the top of the DataFrame. After sorting, we'll display the top 5 rows to examine the data in order of house value."
      ],
      "metadata": {
        "id": "50fdWDoWFQwR"
      }
    },
    {
      "cell_type": "code",
      "source": [
        "df_sorted = df.sort_values('median_house_value', ascending=False)\n",
        "print(df_sorted.head())"
      ],
      "metadata": {
        "id": "NKiLHFLj7sdA"
      },
      "execution_count": null,
      "outputs": []
    },
    {
      "cell_type": "markdown",
      "source": [
        "Now that the dataset is sorted, we will again access specific values using `iloc` and `loc`. This time, we'll retrieve the value in the 3rd row, 0th column, and the 'longitude' value for the same row from the sorted dataset, allowing us to see how sorting affects the data."
      ],
      "metadata": {
        "id": "_aJGgDIXFcbl"
      }
    },
    {
      "cell_type": "code",
      "source": [
        "print(df_sorted.iloc[3, 0], df_sorted.iloc[3, 1])\n",
        "print(df_sorted.loc[3, 'longitude'], df_sorted.loc[3, 'latitude'])"
      ],
      "metadata": {
        "id": "hl8dnckB_HYb"
      },
      "execution_count": null,
      "outputs": []
    },
    {
      "cell_type": "markdown",
      "source": [
        "To understand the distribution of house values, we'll create a histogram using `matplotlib`. The histogram will display the frequency of different house values in the dataset, giving us an idea of how house values are spread across the data."
      ],
      "metadata": {
        "id": "nn4Dh2jkF5yx"
      }
    },
    {
      "cell_type": "code",
      "source": [
        "import matplotlib.pyplot as plt\n",
        "# Data Visualization\n",
        "# Histogram of house values\n",
        "plt.hist(df['median_house_value'], bins=20, color='skyblue', edgecolor='black')\n",
        "plt.xlabel('Median House Value')\n",
        "plt.ylabel('Frequency')\n",
        "plt.title('Distribution of House Values')\n",
        "plt.show()"
      ],
      "metadata": {
        "id": "qzVQN9YV_Puy"
      },
      "execution_count": null,
      "outputs": []
    },
    {
      "cell_type": "markdown",
      "source": [
        "Finally, we will visualize the relationship between median income and median house value through a scatter plot. This will help us identify any potential correlation between these two variables, providing a visual representation of how income levels relate to house values in California."
      ],
      "metadata": {
        "id": "z3drp7mnGBm4"
      }
    },
    {
      "cell_type": "code",
      "source": [
        "# Scatter plot of house value vs. median income\n",
        "plt.scatter(df['median_income'], df['median_house_value'], alpha=0.5, color='blue')\n",
        "plt.xlabel('Median Income')\n",
        "plt.ylabel('Median House Value')\n",
        "plt.title('House Value vs. Income')\n",
        "plt.show()"
      ],
      "metadata": {
        "id": "36sgHp1hAA_i"
      },
      "execution_count": null,
      "outputs": []
    },
    {
      "cell_type": "markdown",
      "source": [
        "In this step, we will create a new version of the dataset by dividing all values in the `median_house_value` column by 1000. This allows us to work with the house values in thousands rather than their original values. We will save the modified dataset to a new CSV file, ensuring that the original data remains unchanged."
      ],
      "metadata": {
        "id": "XVKIym0qH1ic"
      }
    },
    {
      "cell_type": "code",
      "source": [
        "# Create a copy of the DataFrame to avoid modifying the original one\n",
        "df_new = df.copy()\n",
        "\n",
        "# Divide every value of 'median_house_value' by 1000\n",
        "df_new['median_house_value'] = df_new['median_house_value'] / 1000\n",
        "\n",
        "# Save the modified DataFrame to a new CSV file\n",
        "df_new.to_csv(\"sample_data/modified_california_housing.csv\", index=False)\n",
        "\n",
        "# See the results\n",
        "df_modified = pd.read_csv(\"sample_data/modified_california_housing.csv\")\n",
        "df_modified.head()"
      ],
      "metadata": {
        "id": "SMPuqp6CHvVt"
      },
      "execution_count": null,
      "outputs": []
    },
    {
      "cell_type": "markdown",
      "source": [
        "Let's have a look on how to modify a DataFrame"
      ],
      "metadata": {
        "id": "bhJr3sU5JiOS"
      }
    },
    {
      "cell_type": "code",
      "source": [
        "# Add a new row (example data for the new row)\n",
        "new_row = {'longitude': -122.45, 'latitude': 37.75, 'housing_median_age': 25,\n",
        "           'total_rooms': 1000, 'total_bedrooms': 400, 'population': 1500,\n",
        "           'households': 500, 'median_income': 5.0, 'median_house_value': 200}\n",
        "\n",
        "new_row_df = pd.DataFrame([new_row])\n",
        "\n",
        "# Append the new row to the DataFrame\n",
        "df_new = pd.concat([df_new, new_row_df], ignore_index=True)\n",
        "\n",
        "# Remove a row by index (for example, removing the row with index 0)\n",
        "df_new = df_new.drop(index=0)\n",
        "\n",
        "# Modify values in a specific row (for example, modify the values in row with index 1)\n",
        "df_new.loc[1, 'median_house_value'] = 250  # Modify the 'median_house_value'\n",
        "df_new.loc[1, 'median_income'] = 6.0  # Modify the 'median_income'\n",
        "\n",
        "# Display the updated DataFrame\n",
        "print(df_new.head())\n",
        "print(df_new.loc[3000])"
      ],
      "metadata": {
        "collapsed": true,
        "id": "cZLa8PkqJgVi"
      },
      "execution_count": null,
      "outputs": []
    },
    {
      "cell_type": "markdown",
      "source": [
        "## 1.6 Plotting"
      ],
      "metadata": {
        "id": "9aPEjLLs5-yl"
      }
    },
    {
      "cell_type": "markdown",
      "source": [
        "In this section, we’ll explore how to visualize mathematical functions using `matplotlib` and `numpy`. We will generate data points using `numpy` and then plot them using various types of plots in `matplotlib`. Visualizing functions helps us better understand their behavior and relationships between variables."
      ],
      "metadata": {
        "id": "bRPBdlYwLzBf"
      }
    },
    {
      "cell_type": "code",
      "source": [
        "# Import necessary libraries\n",
        "import numpy as np\n",
        "import matplotlib.pyplot as plt\n",
        "\n",
        "# Generate data: Let's create a range of x values from -10 to 10\n",
        "x = np.linspace(-10, 10, 400)\n",
        "\n",
        "# Define a function to plot (for example, y = x^2)\n",
        "y = x**2\n",
        "\n",
        "# Plot the function\n",
        "plt.plot(x, y, label=\"y = x^2\", color='blue')\n",
        "plt.xlabel(\"x\")\n",
        "plt.ylabel(\"y\")\n",
        "plt.title(\"Plot of y = x^2\")\n",
        "plt.legend()\n",
        "plt.grid(True)\n",
        "plt.show()\n"
      ],
      "metadata": {
        "id": "r3Gs_Okh6C7D"
      },
      "execution_count": null,
      "outputs": []
    },
    {
      "cell_type": "markdown",
      "source": [
        "Now, let’s visualize the sine wave function. We will use `numpy` to generate the sine wave and `matplotlib` to plot it."
      ],
      "metadata": {
        "id": "H2IlHm3DMERm"
      }
    },
    {
      "cell_type": "code",
      "source": [
        "# Generate data for a sine wave\n",
        "x = np.linspace(0, 2 * np.pi, 400)  # x values from 0 to 2*pi\n",
        "y = np.sin(x)\n",
        "\n",
        "# Plot the sine wave\n",
        "plt.plot(x, y, label=\"y = sin(x)\", color='green')\n",
        "plt.xlabel(\"x\")\n",
        "plt.ylabel(\"y\")\n",
        "plt.title(\"Sine Wave\")\n",
        "plt.legend()\n",
        "plt.grid(True)\n",
        "plt.show()\n"
      ],
      "metadata": {
        "id": "JJRUm6w-MMC1"
      },
      "execution_count": null,
      "outputs": []
    },
    {
      "cell_type": "markdown",
      "source": [
        "We can plot multiple functions on the same graph for comparison. Let's plot both a sine and cosine function on the same set of axes."
      ],
      "metadata": {
        "id": "I9rjvLz-MRVF"
      }
    },
    {
      "cell_type": "code",
      "source": [
        "# Generate data for both sine and cosine waves\n",
        "y_sin = np.sin(x)\n",
        "y_cos = np.cos(x)\n",
        "\n",
        "# Plot both functions on the same graph\n",
        "plt.plot(x, y_sin, label=\"y = sin(x)\", color='green')\n",
        "plt.plot(x, y_cos, label=\"y = cos(x)\", color='red')\n",
        "plt.xlabel(\"x\")\n",
        "plt.ylabel(\"y\")\n",
        "plt.title(\"Sine and Cosine Waves\")\n",
        "plt.legend()\n",
        "plt.grid(True)\n",
        "plt.show()\n"
      ],
      "metadata": {
        "id": "boz_PyAVMSC_"
      },
      "execution_count": null,
      "outputs": []
    },
    {
      "cell_type": "markdown",
      "source": [
        "`matplotlib` allows us to customize plots with various styles, colors, and markers. Let’s explore how to use different line styles and markers to make the plot more visually interesting."
      ],
      "metadata": {
        "id": "YR5__QzbMY0l"
      }
    },
    {
      "cell_type": "code",
      "source": [
        "# Generate some data to work with\n",
        "x = np.linspace(-10, 10, 400)\n",
        "y = np.tan(x)  # Example of the tangent function\n",
        "\n",
        "# Plot with different styles\n",
        "plt.plot(x, y, linestyle='--', color='purple', label=\"y = tan(x)\")\n",
        "plt.xlabel(\"x\")\n",
        "plt.ylabel(\"y\")\n",
        "plt.title(\"Tangent Function with Custom Style\")\n",
        "plt.legend()\n",
        "plt.ylim(-10, 10)  # Limit the y-axis to avoid large values\n",
        "plt.grid(True)\n",
        "plt.show()\n"
      ],
      "metadata": {
        "id": "QcYoQi8eMWXN"
      },
      "execution_count": null,
      "outputs": []
    }
  ],
  "metadata": {
    "@webio": {
      "lastCommId": null,
      "lastKernelId": null
    },
    "colab": {
      "provenance": [],
      "include_colab_link": true
    },
    "kernelspec": {
      "display_name": "Python 3",
      "language": "python",
      "name": "python3"
    },
    "language_info": {
      "codemirror_mode": {
        "name": "ipython",
        "version": 3
      },
      "file_extension": ".py",
      "mimetype": "text/x-python",
      "name": "python",
      "nbconvert_exporter": "python",
      "pygments_lexer": "ipython3",
      "version": "3.6.5"
    },
    "latex_envs": {
      "LaTeX_envs_menu_present": true,
      "autoclose": false,
      "autocomplete": true,
      "bibliofile": "biblio.bib",
      "cite_by": "apalike",
      "current_citInitial": 1,
      "eqLabelWithNumbers": true,
      "eqNumInitial": 1,
      "hotkeys": {
        "equation": "Ctrl-E",
        "itemize": "Ctrl-I"
      },
      "labels_anchors": false,
      "latex_user_defs": false,
      "report_style_numbering": false,
      "user_envs_cfg": false
    }
  },
  "nbformat": 4,
  "nbformat_minor": 0
}