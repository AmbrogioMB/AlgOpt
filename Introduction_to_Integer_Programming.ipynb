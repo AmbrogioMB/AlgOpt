{
  "nbformat": 4,
  "nbformat_minor": 0,
  "metadata": {
    "colab": {
      "provenance": [],
      "toc_visible": true,
      "authorship_tag": "ABX9TyPS1xc7JMu9sWTf4euHENxy",
      "include_colab_link": true
    },
    "kernelspec": {
      "name": "python3",
      "display_name": "Python 3"
    },
    "language_info": {
      "name": "python"
    }
  },
  "cells": [
    {
      "cell_type": "markdown",
      "metadata": {
        "id": "view-in-github",
        "colab_type": "text"
      },
      "source": [
        "<a href=\"https://colab.research.google.com/github/AmbrogioMB/AlgOpt/blob/main/Introduction_to_Integer_Programming.ipynb\" target=\"_parent\"><img src=\"https://colab.research.google.com/assets/colab-badge.svg\" alt=\"Open In Colab\"/></a>"
      ]
    },
    {
      "cell_type": "markdown",
      "source": [
        "## 1. A first problem\n",
        "Suppose we wish to invest $\\$19,000$. We have identified four investment opportunities. Investment 1 requires an investment of $\\$6,700$ and has a net present value of $\\$8,000$; investment 2 requires $\\$10,000$ and has a value of $\\$11,000$; investment 3 requires $\\$5,500$ and has a value of $\\$6,000$; and investment 4 requires $\\$3,400$ and has a value of $\\$4,000$. Into which investments should we place our money so as to maximize our total present value? Each project is a ''take it or leave it'' opportunity: It is not allowed to invest partially in any of the projects. Such problems are called capital budgeting problems. As in linear programming, our first step is to decide on the variables. In this case, it is easy: We will use a $0-1$ variable $x_j$ for each investment. If $x_j$ is $1$ then we will make investment $j$. If it is $0$, we will not make the investment. This leads to the $0-1$ programming problem"
      ],
      "metadata": {
        "id": "I9O8bnwDk9m4"
      }
    },
    {
      "cell_type": "code",
      "source": [
        "! pip install gurobipy"
      ],
      "metadata": {
        "id": "TFGNRa5XQRjh"
      },
      "execution_count": null,
      "outputs": []
    },
    {
      "cell_type": "code",
      "source": [
        "import gurobipy as gp\n",
        "from gurobipy import GRB\n",
        "\n",
        "investments = ['Investment 1', 'Investment 2', 'Investment 3', 'Investment 4']\n",
        "costs = [6.7, 10, 5.5, 3.4]\n",
        "values = [8, 11, 6, 4]\n",
        "\n",
        "\n",
        "model_continuous = gp.Model(\"example LP\")\n",
        "\n",
        "x = model_continuous.addVars(investments, name=\"x\", vtype=GRB.CONTINUOUS, ub=1)\n",
        "\n",
        "model_continuous.addLConstr(gp.quicksum(costs[i]*x[investments[i]] for i in range(len(investments))) <= 19, \"Constraint1\")\n",
        "\n",
        "model_continuous.setObjective(gp.quicksum(values[i]*x[investments[i]] for i in range(len(investments))), GRB.MAXIMIZE)\n",
        "\n",
        "model_continuous.optimize()\n",
        "\n",
        "x_sol = {i: x[i].x for i in investments}\n",
        "print(\"Decision variables:\")\n",
        "print(x_sol)"
      ],
      "metadata": {
        "id": "ZO0R3Ja91L43"
      },
      "execution_count": null,
      "outputs": []
    },
    {
      "cell_type": "markdown",
      "source": [
        "Unfortunately, this solution is not integral. Rounding $x_2$ down to $0$ gives a\n",
        "feasible solution with a value of $\\$12,000$."
      ],
      "metadata": {
        "id": "D87yJxaF3_X9"
      }
    },
    {
      "cell_type": "code",
      "source": [
        "x_round = {i: int(x[i].x) for i in investments}\n",
        "print(\"Decision variables (rounded):\")\n",
        "print(x_round)\n",
        "cost_round = sum(costs[i]*x_round[investments[i]] for i in range(len(investments)))\n",
        "value_round = sum(values[i]*x_round[investments[i]] for i in range(len(investments)))\n",
        "print(\"Objective value rounded solution:\", value_round)\n",
        "print(\"Cost rounded solution:\", cost_round)"
      ],
      "metadata": {
        "id": "15PR5wrG2DvY"
      },
      "execution_count": null,
      "outputs": []
    },
    {
      "cell_type": "markdown",
      "source": [
        "There is a better integer solution, however."
      ],
      "metadata": {
        "id": "wUwoUa784VIV"
      }
    },
    {
      "cell_type": "code",
      "source": [
        "model_integer = gp.Model(\"example ILP\")\n",
        "\n",
        "x = model_integer.addVars(investments, name=\"x\", vtype=GRB.BINARY)\n",
        "\n",
        "model_integer.addLConstr(gp.quicksum(costs[i]*x[investments[i]] for i in range(len(investments))) <= 19, \"Constraint1\")\n",
        "\n",
        "model_integer.setObjective(gp.quicksum(values[i]*x[investments[i]] for i in range(len(investments))), GRB.MAXIMIZE)\n",
        "\n",
        "model_integer.optimize()\n",
        "x_sol = {i: x[i].x for i in investments}\n",
        "print(\"Decision variables:\")\n",
        "print(x_sol)\n",
        "print(\"Objective value:\", model_integer.objVal)"
      ],
      "metadata": {
        "id": "EJgeAhlb3YmF"
      },
      "execution_count": null,
      "outputs": []
    },
    {
      "cell_type": "markdown",
      "source": [
        "This example shows that rounding does not necessarily give an optimal solution."
      ],
      "metadata": {
        "id": "MayB2GoQ4YmN"
      }
    },
    {
      "cell_type": "markdown",
      "source": [
        "There are a number of additional constraints we might want to add. For instance, consider the following constraints:\n",
        "1. We can only make two investments.\n",
        "2. If investment 2 is made, then investment 4 must also be made.\n",
        "3. If investment 1 is made, then investment 3 cannot be made.\n",
        "\n",
        "All of these, and many more *logical restrictions*, can be enforced using\n",
        "$0-1$ variables. In these cases, the constraints are the following"
      ],
      "metadata": {
        "id": "4087034C4pvA"
      }
    },
    {
      "cell_type": "code",
      "source": [
        "model_integer.addLConstr(gp.quicksum(x[investments[i]] for i in range(len(investments))) <= 2, \"Constraint2\")\n",
        "model_integer.addLConstr(x['Investment 2'] - x['Investment 4'] <= 0, \"Constraint3\")\n",
        "model_integer.addLConstr(x['Investment 1'] - x['Investment 3'] <= 1, \"Constraint4\")\n",
        "model_integer.update()\n",
        "model_integer.optimize()\n",
        "x_sol = {i: x[i].x for i in investments}\n",
        "print(\"Decision variables:\")\n",
        "print(x_sol)\n",
        "print(\"Objective value:\", model_integer.objVal)"
      ],
      "metadata": {
        "id": "DmT1Z7Wl46Nc"
      },
      "execution_count": null,
      "outputs": []
    },
    {
      "cell_type": "markdown",
      "source": [
        "## 2. Exercise: oil exploration\n",
        "As the leader of an oil exploration drilling venture, you must determine the best selection of 5 out of 10 possible sites. Label the sites $s_1, s_2, \\dots, s_{10}$ and the expected profits associated with each as $p_1, p_2, \\dots, p_{10}$.\n",
        "\n",
        "1. If site $s_2$ is explored, then site $s_3$ must also be explored. Furthermore, regional development restrictions are such that\n",
        "2. Exploring sites $s_1$ and $s_7$ will prevent you from exploring site $s_8$.\n",
        "3. Exploring sites $s_3$ or $s_4$ will prevent you from exploring site $s_5$."
      ],
      "metadata": {
        "id": "gX1Ev2aflqln"
      }
    },
    {
      "cell_type": "code",
      "source": [
        "import numpy as np\n",
        "m_oil = gp.Model(\"Oil drilling\")\n",
        "p = np.random.randint(1, 20, 10)\n",
        "# variables and constraints here"
      ],
      "metadata": {
        "id": "pQKfoVEPc-z3"
      },
      "execution_count": null,
      "outputs": []
    },
    {
      "cell_type": "markdown",
      "source": [
        "## 3. Exercise: Sudoku\n",
        "\n",
        "The game is played on a $9 \\times 9$ grid which is subdivided into $9$ blocks of $3 \\times 3$ contiguous cells. The grid must be filled with numbers $1, \\dots ,9$ so that all the numbers between $1$ and $9$ appear in each row, in each column and in each of the nine blocks. A game consists of an initial assignment of numbers in some cells.\n",
        "\n",
        "\\begin{array}{|ccc|ccc|ccc|}\n",
        "\\hline\n",
        "  8  &  - &  - &  - & 2  & 6  &  - & -  &  - \\\\\n",
        "  -  &  - &  - &  - & -  & -  &  7 & -  &  4 \\\\\n",
        "  -  &  - &  - &  7 & -  & -  &  - & -  &  5 \\\\\n",
        "  \\hline\n",
        "  -  &  - &  - &  1 & -  & -  &  - & 3  &  6 \\\\\n",
        "  -  &  1 &  - &  - & 8  & -  &  - & 4  &  - \\\\\n",
        "  9  &  8 &  - &  - & -  & 3  &  - & -  &  - \\\\\n",
        "  \\hline\n",
        "  3  &  - &  - &  - & -  & 1  &  - & -  &  - \\\\\n",
        "  7  &  - &  5 &  - & -  & -  &  - & -  &  - \\\\\n",
        "  -  &  - &  - &  2 & 5  & -  &  - & -  &  8 \\\\\n",
        "\\hline\n",
        "\\end{array}\n",
        "\n",
        "This is a decision problem that can be modeled with binary variables\n",
        "$x_{ijk}$, $1 \\leq  i, j, k \\leq 9$ where $x_{ijk} = 1$ if number $k$ is entered in position with coordinates $i, j$ of the grid, and $0$ otherwise."
      ],
      "metadata": {
        "id": "ybE7Roht7Yi5"
      }
    },
    {
      "cell_type": "code",
      "source": [
        "m_sudoku = gp.Model(\"Sudoku\")\n",
        "# variables and constraints here"
      ],
      "metadata": {
        "id": "Uo0FAVof7c0T"
      },
      "execution_count": null,
      "outputs": []
    }
  ]
}