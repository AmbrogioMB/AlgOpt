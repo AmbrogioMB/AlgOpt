{
  "nbformat": 4,
  "nbformat_minor": 0,
  "metadata": {
    "colab": {
      "provenance": [],
      "toc_visible": true,
      "authorship_tag": "ABX9TyNWzemv3+ThlJVA9ZtKu+SH",
      "include_colab_link": true
    },
    "kernelspec": {
      "name": "python3",
      "display_name": "Python 3"
    },
    "language_info": {
      "name": "python"
    }
  },
  "cells": [
    {
      "cell_type": "markdown",
      "metadata": {
        "id": "view-in-github",
        "colab_type": "text"
      },
      "source": [
        "<a href=\"https://colab.research.google.com/github/AmbrogioMB/AlgOpt/blob/main/Introduction_to_Integer_Programming.ipynb\" target=\"_parent\"><img src=\"https://colab.research.google.com/assets/colab-badge.svg\" alt=\"Open In Colab\"/></a>"
      ]
    },
    {
      "cell_type": "markdown",
      "source": [
        "## 1. A first problem\n",
        "Suppose we wish to invest $\\$19,000$. We have identified four investment opportunities. Investment 1 requires an investment of $\\$6,700$ and has a net present value of $\\$8,000$; investment 2 requires $\\$10,000$ and has a value of $\\$11,000$; investment 3 requires $\\$5,500$ and has a value of $\\$6,000$; and investment 4 requires $\\$3,400$ and has a value of $\\$4,000$. Into which investments should we place our money so as to maximize our total present value? Each project is a ''take it or leave it'' opportunity: It is not allowed to invest partially in any of the projects. Such problems are called capital budgeting problems. As in linear programming, our first step is to decide on the variables. In this case, it is easy: We will use a $0-1$ variable $x_j$ for each investment. If $x_j$ is $1$ then we will make investment $j$. If it is $0$, we will not make the investment. This leads to the $0-1$ programming problem"
      ],
      "metadata": {
        "id": "I9O8bnwDk9m4"
      }
    },
    {
      "cell_type": "code",
      "source": [
        "! pip install gurobipy"
      ],
      "metadata": {
        "id": "TFGNRa5XQRjh"
      },
      "execution_count": null,
      "outputs": []
    },
    {
      "cell_type": "code",
      "source": [
        "import gurobipy as gp\n",
        "from gurobipy import GRB\n",
        "\n",
        "investments = ['Investment 1', 'Investment 2', 'Investment 3', 'Investment 4']\n",
        "costs = [6.7, 10, 5.5, 3.4]\n",
        "values = [8, 11, 6, 4]\n",
        "\n",
        "\n",
        "model_continuous = gp.Model(\"example LP\")\n",
        "\n",
        "x = model_continuous.addVars(investments, name=\"x\", vtype=GRB.CONTINUOUS, ub=1)\n",
        "\n",
        "model_continuous.addLConstr(gp.quicksum(costs[i]*x[investments[i]] for i in range(len(investments))) <= 19, \"Constraint1\")\n",
        "\n",
        "model_continuous.setObjective(gp.quicksum(values[i]*x[investments[i]] for i in range(len(investments))), GRB.MAXIMIZE)\n",
        "\n",
        "model_continuous.optimize()\n",
        "\n",
        "x_sol = {i: x[i].x for i in investments}\n",
        "print(\"Decision variables:\")\n",
        "print(x_sol)"
      ],
      "metadata": {
        "id": "ZO0R3Ja91L43"
      },
      "execution_count": null,
      "outputs": []
    },
    {
      "cell_type": "markdown",
      "source": [
        "Unfortunately, this solution is not integral. Rounding $x_2$ down to $0$ gives a\n",
        "feasible solution with a value of $\\$12,000$."
      ],
      "metadata": {
        "id": "D87yJxaF3_X9"
      }
    },
    {
      "cell_type": "code",
      "source": [
        "x_round = {i: int(x[i].x) for i in investments}\n",
        "print(\"Decision variables (rounded):\")\n",
        "print(x_round)\n",
        "cost_round = sum(costs[i]*x_round[investments[i]] for i in range(len(investments)))\n",
        "value_round = sum(values[i]*x_round[investments[i]] for i in range(len(investments)))\n",
        "print(\"Objective value rounded solution:\", value_round)\n",
        "print(\"Cost rounded solution:\", cost_round)"
      ],
      "metadata": {
        "id": "15PR5wrG2DvY"
      },
      "execution_count": null,
      "outputs": []
    },
    {
      "cell_type": "markdown",
      "source": [
        "There is a better integer solution, however."
      ],
      "metadata": {
        "id": "wUwoUa784VIV"
      }
    },
    {
      "cell_type": "code",
      "source": [
        "model_integer = gp.Model(\"example ILP\")\n",
        "\n",
        "x = model_integer.addVars(investments, name=\"x\", vtype=GRB.BINARY)\n",
        "\n",
        "model_integer.addLConstr(gp.quicksum(costs[i]*x[investments[i]] for i in range(len(investments))) <= 19, \"Constraint1\")\n",
        "\n",
        "model_integer.setObjective(gp.quicksum(values[i]*x[investments[i]] for i in range(len(investments))), GRB.MAXIMIZE)\n",
        "\n",
        "model_integer.optimize()\n",
        "x_sol = {i: x[i].x for i in investments}\n",
        "print(\"Decision variables:\")\n",
        "print(x_sol)\n",
        "print(\"Objective value:\", model_integer.objVal)"
      ],
      "metadata": {
        "id": "EJgeAhlb3YmF"
      },
      "execution_count": null,
      "outputs": []
    },
    {
      "cell_type": "markdown",
      "source": [
        "This example shows that rounding does not necessarily give an optimal solution."
      ],
      "metadata": {
        "id": "MayB2GoQ4YmN"
      }
    },
    {
      "cell_type": "markdown",
      "source": [
        "There are a number of additional constraints we might want to add. For instance, consider the following constraints:\n",
        "1. We can only make two investments.\n",
        "2. If investment 2 is made, then investment 4 must also be made.\n",
        "3. If investment 1 is made, then investment 3 cannot be made.\n",
        "\n",
        "All of these, and many more *logical restrictions*, can be enforced using\n",
        "$0-1$ variables. In these cases, the constraints are the following"
      ],
      "metadata": {
        "id": "4087034C4pvA"
      }
    },
    {
      "cell_type": "code",
      "source": [
        "model_integer.addLConstr(gp.quicksum(x[investments[i]] for i in range(len(investments))) <= 2, \"Constraint2\")\n",
        "model_integer.addLConstr(x['Investment 2'] - x['Investment 4'] <= 0, \"Constraint3\")\n",
        "model_integer.addLConstr(x['Investment 1'] - x['Investment 3'] <= 1, \"Constraint4\")\n",
        "model_integer.update()\n",
        "model_integer.optimize()\n",
        "x_sol = {i: x[i].x for i in investments}\n",
        "print(\"Decision variables:\")\n",
        "print(x_sol)\n",
        "print(\"Objective value:\", model_integer.objVal)"
      ],
      "metadata": {
        "id": "DmT1Z7Wl46Nc"
      },
      "execution_count": null,
      "outputs": []
    },
    {
      "cell_type": "markdown",
      "source": [
        "## 2. Investment in Bond Bundles\n",
        "\n",
        "Suppose an investor has $\\$50,000$ to invest in three types of corporate bonds. Each bond is sold only in bundles of $10$ units, and each bundle has a fixed cost and expected return. The investor can invest in multiple bundles of each type, but only whole bundles can be purchased (no partial bundles). The goal is to maximize total expected return, subject to the budget constraint.\n",
        "\n",
        "$$\n",
        "\\begin{array}{|c|r|r|r|}\n",
        "\\hline\n",
        "\\textbf{Bond} & \\textbf{Cost per bundle} & \\textbf{Expected return} & \\textbf{Max bundles}  \\\\\n",
        "\\hline\n",
        "\\text{A} & 6.0 & 0.72 & 5\\\\\n",
        "\\text{B} & 8.5 & 1.00 & 4\\\\\n",
        "\\text{C} & 4.0 & 0.44 & 6\\\\\n",
        "\\hline\n",
        "\\end{array}\n",
        "$$"
      ],
      "metadata": {
        "id": "jqfYUFWoRKEd"
      }
    },
    {
      "cell_type": "code",
      "source": [
        "m_bund = gp.Model(\"Bond bundles\")\n",
        "bonds = ['A', 'B', 'C']\n",
        "costs = [6, 8.5, 4]\n",
        "returns = [0.72, 1, 0.44]\n",
        "max_bundles = [5, 4, 6]\n",
        "x = m_bund.addVars(bonds, name=\"x\", vtype=GRB.INTEGER, ub=max_bundles)\n",
        "m_bund.addLConstr(gp.quicksum(costs[i]*x[bonds[i]] for i in range(len(bonds))) <= 50, \"Constraint1\")\n",
        "m_bund.setObjective(gp.quicksum(returns[i]*x[bonds[i]] for i in range(len(bonds))), GRB.MAXIMIZE)\n",
        "m_bund.optimize()\n",
        "x_sol = {i: x[i].x for i in bonds}\n",
        "print(\"Decision variables:\")\n",
        "print(x_sol)\n",
        "print(\"Objective value:\", m_bund.objVal)"
      ],
      "metadata": {
        "id": "MetURnhMSgSM"
      },
      "execution_count": null,
      "outputs": []
    },
    {
      "cell_type": "markdown",
      "source": [
        "## 3. Exercise: oil exploration\n",
        "As the leader of an oil exploration drilling venture, you must determine the best selection of 5 out of 10 possible sites. Label the sites $s_1, s_2, \\dots, s_{10}$ and the expected profits associated with each as $p_1, p_2, \\dots, p_{10}$.\n",
        "\n",
        "1. If site $s_2$ is explored, then site $s_3$ must also be explored. Furthermore, regional development restrictions are such that\n",
        "2. Exploring sites $s_1$ and $s_7$ will prevent you from exploring site $s_8$.\n",
        "3. Exploring sites $s_3$ or $s_4$ will prevent you from exploring site $s_5$."
      ],
      "metadata": {
        "id": "gX1Ev2aflqln"
      }
    },
    {
      "cell_type": "code",
      "source": [
        "import numpy as np\n",
        "m_oil = gp.Model(\"Oil drilling\")\n",
        "p = np.random.randint(1, 20, 10)\n",
        "print('Profits: ', p)\n",
        "# variables and constraints here\n",
        "\n",
        "# Decision variables: x[i] = 1 if site si is selected, else 0\n",
        "x = m_oil.addVars(10, vtype=GRB.BINARY, name=\"x\")\n",
        "\n",
        "# Constraint: Select exactly 5 sites\n",
        "m_oil.addConstr(gp.quicksum(x[i] for i in range(10)) == 5, \"select_5_sites\")\n",
        "\n",
        "# Constraint: If site 2 is selected, site 3 must be selected → x[1] <= x[2]\n",
        "m_oil.addConstr(x[1] <= x[2], \"s2_implies_s3\")\n",
        "\n",
        "# Constraint: If both site 1 and site 7 are selected, site 8 must not be → x[0] + x[6] + x[7] <= 2\n",
        "m_oil.addConstr(x[0] + x[6] + x[7] <= 2, \"s1_and_s7_block_s8\")\n",
        "\n",
        "# Constraint: If site 3 or site 4 is selected, site 5 must not be selected\n",
        "# x[4] <= 1 - 0.5*(x[2] + x[3])\n",
        "m_oil.addConstr(x[4] <= 1 - 0.5*(x[2] + x[3]), \"s3_or_s4_block_s5\")\n",
        "# or even better with two constraints x[4] <= 1 - x[2] and x[4] <= 1 - x[3]\n",
        "\n",
        "# Objective: Maximize total expected profit\n",
        "m_oil.setObjective(gp.quicksum(p[i] * x[i] for i in range(10)), GRB.MAXIMIZE)\n",
        "\n",
        "# Optimize model\n",
        "m_oil.optimize()\n",
        "\n",
        "# Output selected sites and profits\n",
        "selected_sites = [f\"s{i+1}\" for i in range(10) if x[i].X > 0.5]\n",
        "selected_profits = [int(p[i]) for i in range(10) if x[i].X > 0.5]\n",
        "print(\"Selected Sites:\", selected_sites)\n",
        "print(\"Profits:\", selected_profits)\n",
        "print(\"Total Profit:\", sum(selected_profits))"
      ],
      "metadata": {
        "id": "pQKfoVEPc-z3"
      },
      "execution_count": null,
      "outputs": []
    },
    {
      "cell_type": "markdown",
      "source": [
        "## 4. Exercise: Sudoku\n",
        "\n",
        "The game is played on a $9 \\times 9$ grid which is subdivided into $9$ blocks of $3 \\times 3$ contiguous cells. The grid must be filled with numbers $1, \\dots ,9$ so that all the numbers between $1$ and $9$ appear in each row, in each column and in each of the nine blocks. A game consists of an initial assignment of numbers in some cells.\n",
        "\n",
        "\\begin{array}{|ccc|ccc|ccc|}\n",
        "\\hline\n",
        "  8  &  - &  - &  - & 2  & 6  &  - & -  &  - \\\\\n",
        "  -  &  - &  - &  - & -  & -  &  7 & -  &  4 \\\\\n",
        "  -  &  - &  - &  7 & -  & -  &  - & -  &  5 \\\\\n",
        "  \\hline\n",
        "  -  &  - &  - &  1 & -  & -  &  - & 3  &  6 \\\\\n",
        "  -  &  1 &  - &  - & 8  & -  &  - & 4  &  - \\\\\n",
        "  9  &  8 &  - &  - & -  & 3  &  - & -  &  - \\\\\n",
        "  \\hline\n",
        "  3  &  - &  - &  - & -  & 1  &  - & -  &  - \\\\\n",
        "  7  &  - &  5 &  - & -  & -  &  - & -  &  - \\\\\n",
        "  -  &  - &  - &  2 & 5  & -  &  - & -  &  8 \\\\\n",
        "\\hline\n",
        "\\end{array}\n",
        "\n",
        "This is a decision problem that can be modeled with binary variables\n",
        "$x_{ijk}$, $1 \\leq  i, j, k \\leq 9$ where $x_{ijk} = 1$ if number $k$ is entered in position with coordinates $i, j$ of the grid, and $0$ otherwise."
      ],
      "metadata": {
        "id": "ybE7Roht7Yi5"
      }
    },
    {
      "cell_type": "code",
      "source": [
        "m_sudoku = gp.Model(\"Sudoku\")\n",
        "# variables and constraints here\n",
        "puzzle = [\n",
        "    [8, 0, 0, 0, 2, 6, 0, 0, 0],\n",
        "    [0, 0, 0, 0, 0, 0, 7, 0, 4],\n",
        "    [0, 0, 0, 7, 0, 0, 0, 0, 5],\n",
        "    [0, 0, 0, 1, 0, 0, 0, 3, 6],\n",
        "    [0, 1, 0, 0, 8, 0, 0, 4, 0],\n",
        "    [9, 8, 0, 0, 0, 3, 0, 0, 0],\n",
        "    [3, 0, 0, 0, 0, 1, 0, 0, 0],\n",
        "    [7, 0, 5, 0, 0, 0, 0, 0, 0],\n",
        "    [0, 0, 0, 2, 5, 0, 0, 0, 8],\n",
        "]\n",
        "\n",
        "# Binary variables: x[i,j,k] == 1 if digit k+1 is in cell (i,j)\n",
        "x = m_sudoku.addVars(9, 9, 9, vtype=GRB.BINARY, name=\"x\")\n",
        "\n",
        "# Constraint 1: Each cell (i,j) has exactly one number\n",
        "for i in range(9):\n",
        "    for j in range(9):\n",
        "        m_sudoku.addConstr(gp.quicksum(x[i, j, k] for k in range(9)) == 1)\n",
        "\n",
        "# Constraint 2: Each number appears once in each row\n",
        "for i in range(9):\n",
        "    for k in range(9):\n",
        "        m_sudoku.addConstr(gp.quicksum(x[i, j, k] for j in range(9)) == 1)\n",
        "\n",
        "# Constraint 3: Each number appears once in each column\n",
        "for j in range(9):\n",
        "    for k in range(9):\n",
        "        m_sudoku.addConstr(gp.quicksum(x[i, j, k] for i in range(9)) == 1)\n",
        "\n",
        "# Constraint 4: Each number appears once in each 3x3 block\n",
        "for block_i in range(3):\n",
        "    for block_j in range(3):\n",
        "        for k in range(9):\n",
        "            m_sudoku.addConstr(\n",
        "                gp.quicksum(\n",
        "                    x[i, j, k]\n",
        "                    for i in range(block_i * 3, (block_i + 1) * 3)\n",
        "                    for j in range(block_j * 3, (block_j + 1) * 3)\n",
        "                ) == 1\n",
        "            )\n",
        "\n",
        "# Constraint 5: Fix values from the initial puzzle\n",
        "for i in range(9):\n",
        "    for j in range(9):\n",
        "        val = puzzle[i][j]\n",
        "        if val > 0:\n",
        "            m_sudoku.addConstr(x[i, j, val - 1] == 1)\n",
        "\n",
        "# Solve the model\n",
        "m_sudoku.optimize()\n",
        "\n",
        "# Pretty-print the solution\n",
        "if m_sudoku.status == GRB.OPTIMAL:\n",
        "    print(\"\\nSolved Sudoku:\")\n",
        "    for i in range(9):\n",
        "        row = \"\"\n",
        "        for j in range(9):\n",
        "            for k in range(9):\n",
        "                if x[i, j, k].X > 0.5:\n",
        "                    row += f\"{k+1} \"\n",
        "                    break\n",
        "            if j in {2, 5}:\n",
        "                row += \"| \"\n",
        "        print(row)\n",
        "        if i in {2, 5}:\n",
        "            print(\"-\" * 21)\n",
        "else:\n",
        "    print(\"No solution found.\")"
      ],
      "metadata": {
        "id": "Uo0FAVof7c0T"
      },
      "execution_count": null,
      "outputs": []
    },
    {
      "cell_type": "markdown",
      "source": [
        "### 4.1 Uniqueness\n",
        "\n",
        "In general, for a combinatorial problem, to ensure uniqueness of a solution we do the following\n",
        "\n",
        "\n",
        "1.   Solve the program. If it is not infeasible, retrieve the solution $z^0 \\in \\{0, 1\\}^n$. In particular, there exist $I, J$ indexes such that $I \\cap J = \\emptyset$, $z^0_i = 0 \\; \\forall i \\in I$ and $z^0_j = 1 \\; \\forall j \\in J$.\n",
        "2.   Since we are now looking for a solution $z^1 \\neq z^0$, we must ensure that either $z^1_i = 1$ for some $i \\in I$ or $z^1_j = 0$ for some $j \\in J$. This is achieved by adding the constraint\n",
        "\\begin{equation}\n",
        "  \\sum_{i \\in I} z_i + \\sum_{j \\in J} (1- z_j) \\geq 1.\n",
        "\\end{equation}\n",
        "3. We solve the program with this new constraint. If the program is infeasible, $z^0$ was the only feasible solution. If we find a solution $z^1$ with a worst (bigger if we are minimizing, smaller if we are maximizing) objective value, $z^0$ was the only optimal solution. If we find an equivalent solution $z^1$, we can repeat point 2. and add a second constraint in order to find $z^2 \\neq z^1$, $z^2 \\neq z^0$.\n"
      ],
      "metadata": {
        "id": "fEgID343ssUF"
      }
    },
    {
      "cell_type": "code",
      "source": [
        "solution_count = 0\n",
        "\n",
        "while True:\n",
        "    m_sudoku.setParam('OutputFlag', 0)\n",
        "    m_sudoku.optimize()\n",
        "\n",
        "    if m_sudoku.Status != GRB.OPTIMAL:\n",
        "        break  # No more solutions\n",
        "\n",
        "    # Increment count\n",
        "    solution_count += 1\n",
        "    print(f\"Solution #{solution_count} found.\")\n",
        "\n",
        "    # Collect current solution as a list of (i, j, k) where x[i,j,k] == 1\n",
        "    current_sol = [(i, j, k) for i in range(9) for j in range(9) for k in range(9)\n",
        "                   if x[i, j, k].X > 0.5]\n",
        "\n",
        "    # Complementary set\n",
        "    comp_sol = [(i, j, k) for i in range(9) for j in range(9) for k in range(9)\n",
        "                if x[i, j, k].X <= 0.5]\n",
        "\n",
        "    # Add a no-good cut: prevent same combination from reappearing\n",
        "    m_sudoku.addConstr(\n",
        "        gp.quicksum(1 - x[i, j, k] for (i, j, k) in current_sol) +\n",
        "        gp.quicksum(x[i, j, k] for (i, j, k) in comp_sol) >= 1\n",
        "    )\n",
        "print(f\"Total solutions found: {solution_count}\")"
      ],
      "metadata": {
        "id": "p3lILf2tu44J"
      },
      "execution_count": null,
      "outputs": []
    },
    {
      "cell_type": "markdown",
      "source": [
        "## 5. Combinatorial Auctions\n",
        "In many auctions, the value that a bidder has for a set of items may not be the sum of the values that he has for individual items. It may be more or it may be less. Examples are equity trading, electricity markets, pollution right auctions and auctions for airport landing slots. To take this into account, combinatorial auctions allow the bidders to submit bids on combinations of items.\n",
        "\n",
        "Specifically, let $M = \\{1, 2, \\dots, m\\}$ be the set of items that the auctioneer has to sell. A bid is a pair $B_j = (S_j , p_j)$ where $S_j \\subseteq M$ is a nonempty set of items and $p_j$ is the price offer for this set. Suppose that the auctioneer has received $n$ bids $B_1, B_2, \\dots, B_n$. How should the auctioneer determine the winners in order to maximize his revenue? This can be done by solving an integer program. Let $x_j$ be a $0,1$ variable that takes the value $1$ if bid $B_j$ wins, and $0$ if it looses. The auctioneer maximizes his revenue by solving the integer program:\n",
        "\\begin{align}\n",
        "\\max \\quad &\\sum_{i=1}^n p_j x_j & \\\\\n",
        "\\text{s.t.} & \\sum_{j : i \\in S_j} x_j \\leq 1 & i = 1, \\dots, m, \\\\\n",
        "& x_j \\in \\{0,1\\} & j = 1, \\dots, n.\n",
        "\\end{align}\n",
        "The constraints impose that each item $i$ is sold at most once."
      ],
      "metadata": {
        "id": "yLMWOktSIoDq"
      }
    },
    {
      "cell_type": "markdown",
      "source": [
        "### 5.1. Exercise\n",
        "Write an ILP program to solve the above problem with the following data.\n",
        "\n",
        "$B_1 = (\\{1\\}, 6), \\; B_2 = (\\{2\\}, 3), \\; B_3 = (\\{3, 4\\}, 12), \\; B_4 = (\\{1,3\\}, 12), \\; B_5 = (\\{2, 4\\}, 8), \\; B_6 = (\\{1, 3, 4\\}, 16)$.\n",
        "\n"
      ],
      "metadata": {
        "id": "WvXOg1KwKta-"
      }
    },
    {
      "cell_type": "code",
      "source": [
        "# Bids: list of (set of items, price)\n",
        "bids = [\n",
        "    ({1}, 6),\n",
        "    ({2}, 3),\n",
        "    ({3, 4}, 12),\n",
        "    ({1, 3}, 12),\n",
        "    ({2, 4}, 8),\n",
        "    ({1, 3, 4}, 16),\n",
        "]\n",
        "\n",
        "items = {1, 2, 3, 4}\n",
        "num_bids = len(bids)\n",
        "\n",
        "# Create model\n",
        "model = gp.Model(\"Combinatorial_Auction\")\n",
        "\n",
        "# Decision variables: x[j] = 1 if bid j is selected\n",
        "x = model.addVars(num_bids, vtype=GRB.BINARY, name=\"x\")\n",
        "\n",
        "# Objective: Maximize total price of accepted bids\n",
        "model.setObjective(gp.quicksum(bids[j][1] * x[j] for j in range(num_bids)), GRB.MAXIMIZE)\n",
        "\n",
        "# Constraint: Each item can be sold at most once\n",
        "for i in items:\n",
        "    model.addConstr(\n",
        "        gp.quicksum(x[j] for j in range(num_bids) if i in bids[j][0]) <= 1,\n",
        "        name=f\"item_{i}_once\"\n",
        "    )\n",
        "\n",
        "# Solve\n",
        "model.optimize()\n",
        "\n",
        "# Print solution\n",
        "if model.Status == GRB.OPTIMAL:\n",
        "    print(\"\\nSelected Bids:\")\n",
        "    total_price = 0\n",
        "    for j in range(num_bids):\n",
        "        if x[j].X > 0.5:\n",
        "            items_in_bid = bids[j][0]\n",
        "            price = bids[j][1]\n",
        "            print(f\"Bid {j+1}: Items {items_in_bid}, Price {price}\")\n",
        "            total_price += price\n",
        "    print(f\"Total Revenue: {total_price}\")\n",
        "else:\n",
        "    print(\"No optimal solution found.\")"
      ],
      "metadata": {
        "id": "eSjQta4ELWM9"
      },
      "execution_count": null,
      "outputs": []
    },
    {
      "cell_type": "markdown",
      "source": [
        "### 5.2. Multiple objects\n",
        "\n",
        "In some auctions, there are multiple indistinguishable units of each item for sale. A bid in this setting is defined as $B_j = (\\lambda^j_1, \\lambda^j_2, \\dots, \\lambda^j_m; p_j)$ where $\\lambda^j_i$ is the desired number of units of item $i$ and $p_j$ is the price offer. The auctioneer maximizes his revenue by solving the integer program:\n",
        "\n",
        "\\begin{align}\n",
        "\\max \\quad &\\sum_{i=1}^n p_j x_j & \\\\\n",
        "\\text{s.t.} & \\sum_{j : i \\in S_j} \\lambda^j_i x_j \\leq u_i & i = 1, \\dots, m, \\\\\n",
        "& x_j \\in \\{0,1\\} & j = 1, \\dots, n,\n",
        "\\end{align}\n",
        "where $u_i$ is the number of units of item $i$ for sale."
      ],
      "metadata": {
        "id": "wYZ5DgVKLYW1"
      }
    },
    {
      "cell_type": "markdown",
      "source": [
        "### 5.3. Exercise\n",
        "Write an ILP program to solve the multiple object problem by generating some data."
      ],
      "metadata": {
        "id": "CMMwT_b9NX_h"
      }
    },
    {
      "cell_type": "code",
      "source": [
        "# Parameters\n",
        "m = 5  # number of items\n",
        "n = 10  # number of bids\n",
        "import numpy as np\n",
        "np.random.seed(0)\n",
        "\n",
        "# Supply of each item (random units between 5 and 15)\n",
        "u = np.random.randint(5, 16, m)\n",
        "\n",
        "# Generate random bids\n",
        "# L: n x m matrix where L[j, i] = number of units of item i requested in bid j\n",
        "L = np.random.randint(0, 4, size=(n, m))  # 0–3 units requested per item\n",
        "p = np.random.randint(10, 101, size=n)  # price for each bid (10–100)\n",
        "\n",
        "# Create model\n",
        "model = gp.Model(\"MultiUnit_Combinatorial_Auction\")\n",
        "\n",
        "# Binary decision variable: x[j] = 1 if bid j is accepted\n",
        "x = model.addVars(n, vtype=GRB.BINARY, name=\"x\")\n",
        "\n",
        "# Objective: maximize total revenue\n",
        "model.setObjective(gp.quicksum(p[j] * x[j] for j in range(n)), GRB.MAXIMIZE)\n",
        "\n",
        "# Constraints: supply limits\n",
        "for i in range(m):\n",
        "    model.addConstr(\n",
        "        gp.quicksum(L[j, i] * x[j] for j in range(n)) <= u[i],\n",
        "        name=f\"supply_limit_item_{i}\"\n",
        "    )\n",
        "\n",
        "# Solve\n",
        "model.optimize()\n",
        "\n",
        "# Print results\n",
        "if model.Status == GRB.OPTIMAL:\n",
        "    print(\"\\n--- Auction Results ---\")\n",
        "    print(f\"Item supply: {u}\")\n",
        "    total = 0\n",
        "    for j in range(n):\n",
        "        if x[j].X > 0.5:\n",
        "            print(f\"Bid {j+1}: Price = {p[j]}, Demand = {L[j]}\")\n",
        "            total += p[j]\n",
        "    print(f\"Total Revenue: {total}\")\n",
        "else:\n",
        "    print(\"No optimal solution found.\")"
      ],
      "metadata": {
        "id": "6SfuFNsONS9x"
      },
      "execution_count": null,
      "outputs": []
    },
    {
      "cell_type": "markdown",
      "source": [
        "## 6. Simple portfolio optimization"
      ],
      "metadata": {
        "id": "gJGhd_P7OG__"
      }
    },
    {
      "cell_type": "markdown",
      "source": [
        "You currently own a portfolio of eight stocks. Using the Markowitz model, you computed the optimal mean/variance portfolio. The weights of these two portfolios are shown in the following table:\n",
        "\n",
        "$$\n",
        "\\begin{array}{|r|rrrrrrrr|}\n",
        "\\hline\n",
        "\\textbf{Stock} &  A &  B & C & D & E & F & G & H \\\\\n",
        "\\hline\n",
        "\\textbf{Your Portfolio} & 0.12 & 0.15 & 0.13 & 0.10 & 0.20 & 0.10 & 0.12 & 0.08\\\\\n",
        "\\textbf{M/V Portfolio}& 0.02 & 0.05 & 0.25 & 0.06 & 0.18 & 0.10 & 0.22 & 0.12\\\\\n",
        "\\hline\n",
        "\\end{array}\n",
        "$$\n",
        "\n",
        "You would like to rebalance your portfolio in order to be closer to the M/V portfolio. To avoid excessively high transaction costs, you decide to rebalance only three stocks from your portfolio. Let $x_i$ denote the weight of stock $i$ in your rebalanced portfolio. The objective is to minimize the quantity\n",
        "\n",
        "\\begin{equation}\n",
        "|x_1 - 0.02| + |x_2 - 0.05| + \\cdots + |x_8 - 0.12|\n",
        "\\end{equation}\n",
        "\n",
        "which measures how closely the rebalanced portfolio matches the M/V portfolio.\n",
        "Formulate this problem as a mixed integer linear program. Note that you will need to introduce new continuous variables in order to linearize the\n",
        "absolute values and new binary variables in order to impose the constraint\n",
        "that only three stocks are traded.\n"
      ],
      "metadata": {
        "id": "6dFtyK8xOVVY"
      }
    },
    {
      "cell_type": "code",
      "source": [
        "stocks = ['A', 'B', 'C', 'D', 'E', 'F', 'G', 'H']\n",
        "w = [0.12, 0.15, 0.13, 0.10, 0.20, 0.10, 0.12, 0.08]  # current portfolio\n",
        "mu = [0.02, 0.05, 0.25, 0.06, 0.18, 0.10, 0.22, 0.12]  # mean/variance optimal\n",
        "n = len(w)\n",
        "\n",
        "# Model\n",
        "model = gp.Model(\"Rebalance_Portfolio\")\n",
        "\n",
        "# Variables\n",
        "x = model.addVars(n, lb=0, ub=1, name=\"x\")  # new weights\n",
        "d = model.addVars(n, lb=0, name=\"d\")        # absolute deviation\n",
        "z = model.addVars(n, vtype=GRB.BINARY, name=\"z\")  # whether stock is traded\n",
        "\n",
        "M = 1.0  # Large constant for conditional constraint\n",
        "\n",
        "# Objective: minimize total deviation from M/V portfolio\n",
        "model.setObjective(gp.quicksum(d[i] for i in range(n)), GRB.MINIMIZE)\n",
        "\n",
        "# Absolute value linearization\n",
        "for i in range(n):\n",
        "    model.addConstr(d[i] >= x[i] - mu[i])\n",
        "    model.addConstr(d[i] >= mu[i] - x[i])\n",
        "\n",
        "# Limit to 3 trades\n",
        "model.addConstr(gp.quicksum(z[i] for i in range(n)) <= 3)\n",
        "\n",
        "# Conditional trading constraint: only allow deviation from current weight if z_i = 1\n",
        "for i in range(n):\n",
        "    model.addConstr(x[i] - w[i] <= M * z[i])\n",
        "    model.addConstr(w[i] - x[i] <= M * z[i])\n",
        "\n",
        "# Portfolio weights sum to 1\n",
        "model.addConstr(gp.quicksum(x[i] for i in range(n)) == 1)\n",
        "\n",
        "# Solve\n",
        "model.optimize()\n",
        "\n",
        "# Print results\n",
        "if model.Status == GRB.OPTIMAL:\n",
        "    print(\"\\nRebalanced Portfolio (only 3 stocks changed):\")\n",
        "    for i in range(n):\n",
        "        xi = x[i].X\n",
        "        if abs(xi - w[i]) > 1e-6:\n",
        "            print(f\"Stock {stocks[i]}: {w[i]:.2f} -> {xi:.2f} (M/V: {mu[i]:.2f})\")\n",
        "    print(f\"\\nTotal Deviation from M/V Portfolio: {model.ObjVal:.4f}\")\n",
        "else:\n",
        "    print(\"No optimal solution found.\")"
      ],
      "metadata": {
        "id": "H2wuWzzkOWBY"
      },
      "execution_count": null,
      "outputs": []
    }
  ]
}